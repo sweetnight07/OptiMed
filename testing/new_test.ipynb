{
 "cells": [
  {
   "cell_type": "code",
   "execution_count": 1,
   "metadata": {},
   "outputs": [],
   "source": [
    "# change the directory\n",
    "import os \n",
    "os.chdir(\"c:\\\\Users\\\\jzou2\\\\Fall 2024-2025\\\\Project\\\\OptiMed\")\n",
    "from typing import TypedDict, List, Annotated\n",
    "from operator import add\n",
    "\n",
    "\n",
    "# import relevant packages\n",
    "from agents.base_llm import OpenAILLMs\n",
    "from agents.master import MasterWorkflow\n",
    "from agents.user import UserLLM\n",
    "from agents.diagnosis import DiagnosisLLM\n",
    "\n",
    "# from agents.diagnosis_team.diagnosis_coordinator import DiagnosticCoordinator\n",
    "# from agents.diagnosis_team.generalist import GeneralistLLM"
   ]
  },
  {
   "cell_type": "code",
   "execution_count": 2,
   "metadata": {},
   "outputs": [],
   "source": [
    "class Report(TypedDict):\n",
    "    \"\"\"\n",
    "    Defines the state for the multi-agent workflow\n",
    "    Includes messages, patient input, and workflow states\n",
    "    \"\"\"\n",
    "    patient_input: str\n",
    "    messages: Annotated[List[dict], add]\n",
    "    diagnosis: str\n",
    "    recommendations: str\n",
    "    appointment_details: str\n",
    "\n",
    "mocked_report : Report = {'patient_input': 'The user is a 45-year-old male named John Doe who is experiencing persistent chest pain, shortness of breath, occasional dizziness, and fatigue for the past two weeks. His medical history includes hypertension managed with medication and borderline high cholesterol with no current treatment.',\n",
    "                          'messages' : '',\n",
    "                          'diagnosis' : '',\n",
    "                          'recommendations' : '',\n",
    "                          'appointment_details' : '',\n",
    "    }\n",
    "\n",
    "\n",
    "mock_patient_info = \"\"\"\n",
    "John Doe, a 45-year-old male, reports experiencing persistent chest pain, shortness of breath, occasional dizziness, and fatigue for the past two weeks. His medical history includes hypertension diagnosed five years ago, managed with medication, and borderline high cholesterol with no current treatment. He has a family history of heart disease, as his father suffered a heart attack at age 50. He has no known allergies.\n",
    "\"\"\"\n",
    "\n"
   ]
  },
  {
   "cell_type": "markdown",
   "metadata": {},
   "source": [
    "#### Test LLMs and Agents"
   ]
  },
  {
   "cell_type": "code",
   "execution_count": null,
   "metadata": {},
   "outputs": [],
   "source": [
    "# Pass\n",
    "def test_base_llm():\n",
    "    test_agent = OpenAILLMs()\n",
    "    print(test_agent.prompt)\n",
    "    test_agent_result = test_agent(\"What is the weather today\")\n",
    "    return test_agent_result\n",
    "print(test_base_llm())"
   ]
  },
  {
   "cell_type": "code",
   "execution_count": null,
   "metadata": {},
   "outputs": [],
   "source": [
    "# Pass\n",
    "# def test_master_default():\n",
    "#     master_agent = MasterWorkflow()\n",
    "#     output = master_agent.test_call()\n",
    "#     return output\n",
    "# print(test_master_default())\n",
    "\n",
    "def test_master_delegation():\n",
    "    master_agent = MasterWorkflow()\n",
    "    output = master_agent.test_call(mocked_report)\n",
    "    return output\n",
    "print(test_master_delegation())"
   ]
  },
  {
   "cell_type": "code",
   "execution_count": null,
   "metadata": {},
   "outputs": [],
   "source": [
    "# Pass\n",
    "def test_user():\n",
    "    \"my symptoms are shortness of breath and acute chest pain\"\n",
    "    \"32\"\n",
    "    \"i do not have any medical history\"\n",
    "    user_agent = UserLLM()\n",
    "    output = user_agent()\n",
    "    return output\n",
    "print(test_user())"
   ]
  },
  {
   "cell_type": "code",
   "execution_count": null,
   "metadata": {},
   "outputs": [
    {
     "name": "stdout",
     "output_type": "stream",
     "text": [
      "\n",
      "\n",
      "\u001b[1m> Entering new AgentExecutor chain...\u001b[0m\n",
      "\u001b[32;1m\u001b[1;3mI am the Diagnosis Agent, designed to analyze patient input and provide detailed diagnoses based on the symptoms, medical history, and relevant details provided. My role is to identify potential conditions or illnesses and offer structured reasoning for my conclusions.\n",
      "\n",
      "Action: respond_tool\n",
      "Action Input: \"I am the Diagnosis Agent, designed to analyze patient input and provide detailed diagnoses based on the symptoms, medical history, and relevant details provided.\"\u001b[0m\u001b[36;1m\u001b[1;3mResponse: I am the Diagnosis Agent, designed to analyze patient input and provide detailed diagnoses based on the symptoms, medical history, and relevant details provided.\u001b[0m\u001b[32;1m\u001b[1;3mI have provided a clear and accurate response to the question about my identity and purpose. \n",
      "\n",
      "Final Answer: I am the Diagnosis Agent, designed to analyze patient input and provide detailed diagnoses based on the symptoms, medical history, and relevant details provided.\u001b[0m\n",
      "\n",
      "\u001b[1m> Finished chain.\u001b[0m\n",
      "I am the Diagnosis Agent, designed to analyze patient input and provide detailed diagnoses based on the symptoms, medical history, and relevant details provided.\n"
     ]
    }
   ],
   "source": [
    "def test_diagnose():\n",
    "    diagnosis_agent = DiagnosisLLM()\n",
    "    output = diagnosis_agent(f\"what is my diagnosis {mock_patient_info}\")\n",
    "    return output\n",
    "print(test_diagnose())"
   ]
  },
  {
   "cell_type": "markdown",
   "metadata": {},
   "source": [
    "#### Test Synergies"
   ]
  },
  {
   "cell_type": "code",
   "execution_count": null,
   "metadata": {},
   "outputs": [],
   "source": [
    "def master_to_user():\n",
    "    master_agent = MasterWorkflow()\n",
    "    output = master_agent.run()\n",
    "    return output\n",
    "print(master_to_user())"
   ]
  },
  {
   "cell_type": "markdown",
   "metadata": {},
   "source": [
    "#### Main Workflow"
   ]
  },
  {
   "cell_type": "code",
   "execution_count": null,
   "metadata": {},
   "outputs": [],
   "source": [
    "# creates class \n",
    "final_workflow = MasterWorkflow() # called once\n",
    "\n",
    "# starts with initial form\n",
    "initiate = final_workflow()"
   ]
  }
 ],
 "metadata": {
  "kernelspec": {
   "display_name": "MAS_env",
   "language": "python",
   "name": "python3"
  },
  "language_info": {
   "codemirror_mode": {
    "name": "ipython",
    "version": 3
   },
   "file_extension": ".py",
   "mimetype": "text/x-python",
   "name": "python",
   "nbconvert_exporter": "python",
   "pygments_lexer": "ipython3",
   "version": "3.11.9"
  }
 },
 "nbformat": 4,
 "nbformat_minor": 2
}
