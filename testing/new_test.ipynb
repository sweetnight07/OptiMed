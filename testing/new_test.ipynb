{
 "cells": [
  {
   "cell_type": "code",
   "execution_count": 1,
   "metadata": {},
   "outputs": [],
   "source": [
    "# change the directory\n",
    "import os \n",
    "os.chdir(\"c:\\\\Users\\\\jzou2\\\\Fall 2024-2025\\\\Project\\\\OptiMed\")\n",
    "from typing import TypedDict, List\n",
    "\n",
    "\n",
    "# import relevant packages\n",
    "from agents.base_llm import OpenAILLMs\n",
    "from agents.master import MasterWorkflow\n",
    "from agents.user_interaction.user_inputter import UserLLM\n",
    "\n",
    "from agents.diagnosis.diagnosis_coordinator import DiagnosticCoordinator\n",
    "\n",
    "from agents.diagnosis.generalist import GeneralistLLM"
   ]
  },
  {
   "cell_type": "code",
   "execution_count": null,
   "metadata": {},
   "outputs": [],
   "source": [
    "# initial set up\n",
    "class Report(TypedDict):\n",
    "    \"\"\"\n",
    "    Defines the state for the multi-agent workflow.\n",
    "    Includes messages, patient info, and workflow states.\n",
    "    \"\"\"\n",
    "    patient_info: str\n",
    "    messages: List[dict]\n",
    "    diagnosis: str\n",
    "    recommendations: str\n",
    "    appointment_details: str\n",
    "\n",
    "\n",
    "# Mock report with no messages\n",
    "mock_diagnostic_report_no_messages: Report = {\n",
    "    \"patient_info\": \"Patient: John Doe, Age: 45, Gender: Male, Medical History: Hypertension, Asthma, Allergies: Penicillin. His Current Symptoms Is Shortness Of Breath And Chest Pain\",\n",
    "    \"messages\": [],\n",
    "    \"diagnosis\": \"\",\n",
    "    \"recommendations\": \"\",\n",
    "    \"appointment_details\": \"\"\n",
    "}\n",
    "\n",
    "# Mock report with messages\n",
    "mock_diagnostic_report_yes_messages: Report = {\n",
    "    \"patient_info\": \"Patient: John Doe, Age: 45, Gender: Male, Medical History: Hypertension, Asthma, Allergies: Penicillin. His Current Symptoms Is Shortness Of Breath And Chest Pain\",\n",
    "    \"messages\": [{\"role\": \"generalist\", \"content\": \"This might be a heart attack, I would go to the recommender and suggest any diagnostic testing\"}],  \n",
    "    \"diagnosis\": \"heart attack\",\n",
    "    \"recommendations\": \"\",\n",
    "    \"appointment_details\": \"\"\n",
    "}\n"
   ]
  },
  {
   "cell_type": "markdown",
   "metadata": {},
   "source": [
    "#### Test LLMs and Agents"
   ]
  },
  {
   "cell_type": "code",
   "execution_count": 3,
   "metadata": {},
   "outputs": [
    {
     "name": "stdout",
     "output_type": "stream",
     "text": [
      "input_variables=['agent_scratchpad', 'chat_history', 'input', 'tool_names', 'tools'] input_types={'chat_history': list[typing.Annotated[typing.Union[typing.Annotated[langchain_core.messages.ai.AIMessage, Tag(tag='ai')], typing.Annotated[langchain_core.messages.human.HumanMessage, Tag(tag='human')], typing.Annotated[langchain_core.messages.chat.ChatMessage, Tag(tag='chat')], typing.Annotated[langchain_core.messages.system.SystemMessage, Tag(tag='system')], typing.Annotated[langchain_core.messages.function.FunctionMessage, Tag(tag='function')], typing.Annotated[langchain_core.messages.tool.ToolMessage, Tag(tag='tool')], typing.Annotated[langchain_core.messages.ai.AIMessageChunk, Tag(tag='AIMessageChunk')], typing.Annotated[langchain_core.messages.human.HumanMessageChunk, Tag(tag='HumanMessageChunk')], typing.Annotated[langchain_core.messages.chat.ChatMessageChunk, Tag(tag='ChatMessageChunk')], typing.Annotated[langchain_core.messages.system.SystemMessageChunk, Tag(tag='SystemMessageChunk')], typing.Annotated[langchain_core.messages.function.FunctionMessageChunk, Tag(tag='FunctionMessageChunk')], typing.Annotated[langchain_core.messages.tool.ToolMessageChunk, Tag(tag='ToolMessageChunk')]], FieldInfo(annotation=NoneType, required=True, discriminator=Discriminator(discriminator=<function _get_type at 0x00000275A3DEBBA0>, custom_error_type=None, custom_error_message=None, custom_error_context=None))]]} partial_variables={} messages=[SystemMessage(content='You are a helpful AI assistant. When using tools, follow these steps:\\n\\n1. Understand what is being asked.\\n2. Break down complex tasks into smaller steps.\\n3. Use available tools when necessary.\\n4. Provide clear, concise responses.\\n5. If you cannot complete a task with the available tools, explain why.\\n\\nAlways aim to be helpful while ensuring safe and appropriate use of tools.', additional_kwargs={}, response_metadata={}), MessagesPlaceholder(variable_name='chat_history'), HumanMessagePromptTemplate(prompt=PromptTemplate(input_variables=['agent_scratchpad', 'input', 'tool_names', 'tools'], input_types={}, partial_variables={}, template='Answer the following questions as best you can. You have access to the following tools:\\n\\n{tools}\\n\\nUse the following format:\\n\\nQuestion: the input question you must answer\\nThought and Reasoning: you should always think about what to do and reason out whether tool usage is necessary\\nAction: the action to take, should be one of [{tool_names}]\\nAction Input: the input to the action\\nObservation: the result of the action\\n... (this Thought and Reasoning/Action/Action Input/Observation can repeat N times)\\nThought: I now know the final answer\\nFinal Answer: the final answer to the original input question\\n\\nBegin!\\n\\nQuestion: {input}\\nThought:{agent_scratchpad}\\n'), additional_kwargs={})]\n",
      "\n",
      "\n",
      "\u001b[1m> Entering new AgentExecutor chain...\u001b[0m\n",
      "\u001b[32;1m\u001b[1;3mQuestion: What is the weather today  \n",
      "Thought and Reasoning: To answer the question about today's weather, I would typically need access to real-time weather data, which I do not have. Since I cannot provide current weather information, I will respond with a general statement about how to find weather information.  \n",
      "Action: respond_tool  \n",
      "Action Input: \"I don't have access to real-time weather data. You can check a weather website or app for the latest updates.\"  \u001b[0m\u001b[36;1m\u001b[1;3mResponse: I don't have access to real-time weather data. You can check a weather website or app for the latest updates.\u001b[0m\u001b[32;1m\u001b[1;3mI now know the final answer  \n",
      "Final Answer: I don't have access to real-time weather data. You can check a weather website or app for the latest updates.\u001b[0m\n",
      "\n",
      "\u001b[1m> Finished chain.\u001b[0m\n",
      "('Default Agent', \"I don't have access to real-time weather data. You can check a weather website or app for the latest updates.\")\n"
     ]
    }
   ],
   "source": [
    "def test_base_llm():\n",
    "    test_agent = OpenAILLMs()\n",
    "    print(test_agent.prompt)\n",
    "    test_agent_result = test_agent(\"What is the weather today\")\n",
    "    return test_agent_result\n",
    "print(test_base_llm())"
   ]
  },
  {
   "cell_type": "code",
   "execution_count": null,
   "metadata": {},
   "outputs": [
    {
     "name": "stdout",
     "output_type": "stream",
     "text": [
      "\n",
      "\n",
      "\u001b[1m> Entering new AgentExecutor chain...\u001b[0m\n",
      "\u001b[32;1m\u001b[1;3mThought and Reasoning: The current report indicates that the patient information is missing. To complete the form, I need to gather the necessary patient information, which includes symptoms, age, and medical history. Therefore, I should delegate the task to the User Interaction Agent to collect this information.\n",
      "Action: USER INTERACTION\n",
      "Final Answer: USER INTERACTION\u001b[0m\n",
      "\n",
      "\u001b[1m> Finished chain.\u001b[0m\n",
      "('Default Agent', 'USER INTERACTION')\n"
     ]
    }
   ],
   "source": [
    "def test_master():\n",
    "    master_agent = MasterWorkflow()\n",
    "    output = master_agent()\n",
    "    return output\n",
    "print(test_master())"
   ]
  },
  {
   "cell_type": "code",
   "execution_count": 3,
   "metadata": {},
   "outputs": [
    {
     "name": "stdout",
     "output_type": "stream",
     "text": [
      "\n",
      "\n",
      "\u001b[1m> Entering new AgentExecutor chain...\u001b[0m\n",
      "\u001b[32;1m\u001b[1;3mThought and Reasoning: I need to gather information about the user's symptoms, age, and medical history to create a concise summary of their information. Since I currently have no details, I will start by asking for the symptoms.\n",
      "Action: get_user_input\n",
      "Action Input: \"Please describe your symptoms.\"\u001b[0m\u001b[36;1m\u001b[1;3m    \"my symptoms are shortness of breath and acute chest pain\"\u001b[0m\u001b[32;1m\u001b[1;3mThought and Reasoning: I have gathered information about the user's symptoms, which are shortness of breath and acute chest pain. Next, I need to ask for the user's age to complete the summary.\n",
      "Action: get_user_input\n",
      "Action Input: \"What is your age?\"\u001b[0m\u001b[36;1m\u001b[1;3m32\u001b[0m\u001b[32;1m\u001b[1;3mThought and Reasoning: I have now gathered the user's age, which is 32. The next step is to collect information about the user's medical history to complete the summary.\n",
      "Action: get_user_input\n",
      "Action Input: \"Can you please provide your medical history?\"\u001b[0m\u001b[36;1m\u001b[1;3m\"i do not have any medical history\"\u001b[0m\u001b[32;1m\u001b[1;3mThought and Reasoning: I have now gathered all necessary information: the user's symptoms (shortness of breath and acute chest pain), age (32), and medical history (no medical history). I can now create a concise summary of the user's information.\n",
      "Final Answer: The user is 32 years old and is experiencing shortness of breath and acute chest pain. They do not have any medical history.\u001b[0m\n",
      "\n",
      "\u001b[1m> Finished chain.\u001b[0m\n",
      "('Default Agent', 'The user is 32 years old and is experiencing shortness of breath and acute chest pain. They do not have any medical history.')\n"
     ]
    }
   ],
   "source": [
    "def test_user():\n",
    "    \"my symptoms are shortness of breath and acute chest pain\"\n",
    "    \"32\"\n",
    "    \"i do not have any medical history\"\n",
    "    user_agent = UserLLM()\n",
    "    output = user_agent()\n",
    "    return output\n",
    "print(test_user())"
   ]
  },
  {
   "cell_type": "markdown",
   "metadata": {},
   "source": [
    "#### Main Workflow"
   ]
  },
  {
   "cell_type": "code",
   "execution_count": null,
   "metadata": {},
   "outputs": [],
   "source": [
    "# creates class \n",
    "final_workflow = MasterWorkflow()\n",
    "\n",
    "# starts with initial form\n",
    "initiate = final_workflow()"
   ]
  }
 ],
 "metadata": {
  "kernelspec": {
   "display_name": "MAS_env",
   "language": "python",
   "name": "python3"
  },
  "language_info": {
   "codemirror_mode": {
    "name": "ipython",
    "version": 3
   },
   "file_extension": ".py",
   "mimetype": "text/x-python",
   "name": "python",
   "nbconvert_exporter": "python",
   "pygments_lexer": "ipython3",
   "version": "3.11.9"
  }
 },
 "nbformat": 4,
 "nbformat_minor": 2
}
