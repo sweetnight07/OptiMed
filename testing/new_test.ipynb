{
 "cells": [
  {
   "cell_type": "code",
   "execution_count": 1,
   "metadata": {},
   "outputs": [],
   "source": [
    "# change the directory\n",
    "import os \n",
    "os.chdir(\"c:\\\\Users\\\\jzou2\\\\Fall 2024-2025\\\\Project\\\\OptiMed\")\n",
    "from typing import TypedDict, List, Annotated\n",
    "from operator import add\n",
    "\n",
    "\n",
    "# import relevant packages\n",
    "from agents.base_llm import OpenAILLMs\n",
    "from agents.master import MasterWorkflow\n",
    "from agents.user import UserLLM\n",
    "from agents.diagnosis import DiagnosisLLM\n",
    "\n",
    "# from agents.diagnosis_team.diagnosis_coordinator import DiagnosticCoordinator\n",
    "# from agents.diagnosis_team.generalist import GeneralistLLM"
   ]
  },
  {
   "cell_type": "code",
   "execution_count": 3,
   "metadata": {},
   "outputs": [],
   "source": [
    "class Report(TypedDict):\n",
    "    \"\"\"\n",
    "    Defines the state for the multi-agent workflow\n",
    "    Includes messages, patient input, and workflow states\n",
    "    \"\"\"\n",
    "    patient_input: str\n",
    "    messages: Annotated[List[dict], add]\n",
    "    diagnosis: str\n",
    "    recommendations: str\n",
    "    appointment_details: str\n",
    "\n",
    "mocked_report_empty : Report = {'patient_input': '',\n",
    "                          'messages' : [],\n",
    "                          'diagnosis' : '',\n",
    "                          'recommendations' : '',\n",
    "                          'appointment_details' : '',\n",
    "}\n",
    "\n",
    "mocked_report_patient_filled : Report = {'patient_input': 'The user is a 45-year-old male named John Doe who is experiencing persistent chest pain, shortness of breath, occasional dizziness, and fatigue for the past two weeks. His medical history includes hypertension managed with medication and borderline high cholesterol with no current treatment.',\n",
    "                          'messages' : [],\n",
    "                          'diagnosis' : '',\n",
    "                          'recommendations' : '',\n",
    "                          'appointment_details' : '',\n",
    "}\n",
    "\n",
    "mocked_report_diagnosis_filled : Report = {'patient_input': 'The user is a 45-year-old male named John Doe who is experiencing persistent chest pain, shortness of breath, occasional dizziness, and fatigue for the past two weeks. His medical history includes hypertension managed with medication and borderline high cholesterol with no current treatment.',\n",
    "                          'messages' : [],\n",
    "                          'diagnosis' : 'The possible diagnoses for John Doe include acute coronary syndrome, stable angina, heart failure, hypertensive heart disease, pulmonary embolism, gastroesophageal reflux disease, or anxiety/panic attack, and further tests are needed to confirm the diagnosis.',\n",
    "                          'recommendations' : '',\n",
    "                          'appointment_details' : '',\n",
    "}\n",
    "\n",
    "mock_patient_info = \"\"\"\n",
    "John Doe, a 45-year-old male, reports experiencing persistent chest pain, shortness of breath, occasional dizziness, and fatigue for the past two weeks. His medical history includes hypertension diagnosed five years ago, managed with medication, and borderline high cholesterol with no current treatment. He has a family history of heart disease, as his father suffered a heart attack at age 50. He has no known allergies.\n",
    "\"\"\"\n",
    "\n"
   ]
  },
  {
   "cell_type": "markdown",
   "metadata": {},
   "source": [
    "#### Test Base LLMs"
   ]
  },
  {
   "cell_type": "code",
   "execution_count": 2,
   "metadata": {},
   "outputs": [
    {
     "name": "stdout",
     "output_type": "stream",
     "text": [
      "START OF TEMPLATE\n",
      "Answer the following questions as best you can. You have access to the following tools:\n",
      "\n",
      "{tools}\n",
      "\n",
      "Use the following format:\n",
      "\n",
      "Question: the input question you must answer\n",
      "Thought and Reasoning: you should always think about what to do and reason out whether tool usage is necessary\n",
      "Action: the action to take, should be one of [{tool_names}]\n",
      "Action Input: the input to the action\n",
      "Observation: the result of the action\n",
      "... (this Thought and Reasoning/Action/Action Input/Observation can repeat N times)\n",
      "Thought: I now know the final answer\n",
      "Final Answer: the final answer to the original input question\n",
      "\n",
      "Begin!\n",
      "\n",
      "Question: {input}\n",
      "Thought:{agent_scratchpad}\n",
      "\n",
      "END OF TEMPLATE\n",
      "input_variables=[] input_types={} partial_variables={} messages=[SystemMessage(content='You are a helpful AI assistant. When using tools, follow these steps:\\n\\n1. Understand what is being asked.\\n2. Break down complex tasks into smaller steps.\\n3. Use available tools when necessary.\\n4. Provide clear, concise responses.\\n5. If you cannot complete a task with the available tools, explain why.\\n\\nAlways aim to be helpful while ensuring safe and appropriate use of tools.', additional_kwargs={}, response_metadata={}), HumanMessage(content='Answer the following questions as best you can. You have access to the following tools:\\n\\n{tools}\\n\\nUse the following format:\\n\\nQuestion: the input question you must answer\\nThought and Reasoning: you should always think about what to do and reason out whether tool usage is necessary\\nAction: the action to take, should be one of [{tool_names}]\\nAction Input: the input to the action\\nObservation: the result of the action\\n... (this Thought and Reasoning/Action/Action Input/Observation can repeat N times)\\nThought: I now know the final answer\\nFinal Answer: the final answer to the original input question\\n\\nBegin!\\n\\nQuestion: {input}\\nThought:{agent_scratchpad}\\n', additional_kwargs={}, response_metadata={})]\n"
     ]
    },
    {
     "ename": "ValueError",
     "evalue": "Prompt missing required variables: {'agent_scratchpad', 'tools', 'tool_names'}",
     "output_type": "error",
     "traceback": [
      "\u001b[1;31m---------------------------------------------------------------------------\u001b[0m",
      "\u001b[1;31mValueError\u001b[0m                                Traceback (most recent call last)",
      "Cell \u001b[1;32mIn[2], line 7\u001b[0m\n\u001b[0;32m      5\u001b[0m     test_agent_result \u001b[38;5;241m=\u001b[39m test_agent(\u001b[38;5;124m\"\u001b[39m\u001b[38;5;124mWhat is the weather today\u001b[39m\u001b[38;5;124m\"\u001b[39m)\n\u001b[0;32m      6\u001b[0m     \u001b[38;5;28;01mreturn\u001b[39;00m test_agent_result\n\u001b[1;32m----> 7\u001b[0m \u001b[38;5;28mprint\u001b[39m(\u001b[43mtest_base_llm\u001b[49m\u001b[43m(\u001b[49m\u001b[43m)\u001b[49m)\n",
      "Cell \u001b[1;32mIn[2], line 3\u001b[0m, in \u001b[0;36mtest_base_llm\u001b[1;34m()\u001b[0m\n\u001b[0;32m      2\u001b[0m \u001b[38;5;28;01mdef\u001b[39;00m \u001b[38;5;21mtest_base_llm\u001b[39m():\n\u001b[1;32m----> 3\u001b[0m     test_agent \u001b[38;5;241m=\u001b[39m \u001b[43mOpenAILLMs\u001b[49m\u001b[43m(\u001b[49m\u001b[43m)\u001b[49m\n\u001b[0;32m      4\u001b[0m     \u001b[38;5;28mprint\u001b[39m(test_agent\u001b[38;5;241m.\u001b[39mprompt)\n\u001b[0;32m      5\u001b[0m     test_agent_result \u001b[38;5;241m=\u001b[39m test_agent(\u001b[38;5;124m\"\u001b[39m\u001b[38;5;124mWhat is the weather today\u001b[39m\u001b[38;5;124m\"\u001b[39m)\n",
      "File \u001b[1;32mc:\\Users\\jzou2\\Fall 2024-2025\\Project\\OptiMed\\agents\\base_llm.py:60\u001b[0m, in \u001b[0;36mOpenAILLMs.__init__\u001b[1;34m(self, tools, model_name, system_prompt, template, temperature, agent_role)\u001b[0m\n\u001b[0;32m     57\u001b[0m \u001b[38;5;28mprint\u001b[39m(\u001b[38;5;28mself\u001b[39m\u001b[38;5;241m.\u001b[39mprompt)\n\u001b[0;32m     59\u001b[0m \u001b[38;5;66;03m# Create the agent\u001b[39;00m\n\u001b[1;32m---> 60\u001b[0m \u001b[38;5;28mself\u001b[39m\u001b[38;5;241m.\u001b[39magent \u001b[38;5;241m=\u001b[39m \u001b[43mcreate_react_agent\u001b[49m\u001b[43m(\u001b[49m\n\u001b[0;32m     61\u001b[0m \u001b[43m    \u001b[49m\u001b[43mtools\u001b[49m\u001b[38;5;241;43m=\u001b[39;49m\u001b[38;5;28;43mself\u001b[39;49m\u001b[38;5;241;43m.\u001b[39;49m\u001b[43mtools\u001b[49m\u001b[43m,\u001b[49m\n\u001b[0;32m     62\u001b[0m \u001b[43m    \u001b[49m\u001b[43mllm\u001b[49m\u001b[38;5;241;43m=\u001b[39;49m\u001b[38;5;28;43mself\u001b[39;49m\u001b[38;5;241;43m.\u001b[39;49m\u001b[43mllm\u001b[49m\u001b[43m,\u001b[49m\n\u001b[0;32m     63\u001b[0m \u001b[43m    \u001b[49m\u001b[43mprompt\u001b[49m\u001b[38;5;241;43m=\u001b[39;49m\u001b[38;5;28;43mself\u001b[39;49m\u001b[38;5;241;43m.\u001b[39;49m\u001b[43mprompt\u001b[49m\n\u001b[0;32m     64\u001b[0m \u001b[43m\u001b[49m\u001b[43m)\u001b[49m\n\u001b[0;32m     66\u001b[0m \u001b[38;5;66;03m# Create the agent executor\u001b[39;00m\n\u001b[0;32m     67\u001b[0m \u001b[38;5;28mself\u001b[39m\u001b[38;5;241m.\u001b[39magent_executor \u001b[38;5;241m=\u001b[39m AgentExecutor(\n\u001b[0;32m     68\u001b[0m     agent\u001b[38;5;241m=\u001b[39m\u001b[38;5;28mself\u001b[39m\u001b[38;5;241m.\u001b[39magent,\n\u001b[0;32m     69\u001b[0m     tools\u001b[38;5;241m=\u001b[39m\u001b[38;5;28mself\u001b[39m\u001b[38;5;241m.\u001b[39mtools,\n\u001b[0;32m     70\u001b[0m     verbose\u001b[38;5;241m=\u001b[39m\u001b[38;5;28;01mTrue\u001b[39;00m,\n\u001b[0;32m     71\u001b[0m     handle_parsing_errors\u001b[38;5;241m=\u001b[39m\u001b[38;5;28;01mTrue\u001b[39;00m\n\u001b[0;32m     72\u001b[0m )\n",
      "File \u001b[1;32mc:\\Users\\jzou2\\Fall 2024-2025\\Project\\OptiMed\\MAS_env\\Lib\\site-packages\\langchain\\agents\\react\\agent.py:123\u001b[0m, in \u001b[0;36mcreate_react_agent\u001b[1;34m(llm, tools, prompt, output_parser, tools_renderer, stop_sequence)\u001b[0m\n\u001b[0;32m    119\u001b[0m missing_vars \u001b[38;5;241m=\u001b[39m {\u001b[38;5;124m\"\u001b[39m\u001b[38;5;124mtools\u001b[39m\u001b[38;5;124m\"\u001b[39m, \u001b[38;5;124m\"\u001b[39m\u001b[38;5;124mtool_names\u001b[39m\u001b[38;5;124m\"\u001b[39m, \u001b[38;5;124m\"\u001b[39m\u001b[38;5;124magent_scratchpad\u001b[39m\u001b[38;5;124m\"\u001b[39m}\u001b[38;5;241m.\u001b[39mdifference(\n\u001b[0;32m    120\u001b[0m     prompt\u001b[38;5;241m.\u001b[39minput_variables \u001b[38;5;241m+\u001b[39m \u001b[38;5;28mlist\u001b[39m(prompt\u001b[38;5;241m.\u001b[39mpartial_variables)\n\u001b[0;32m    121\u001b[0m )\n\u001b[0;32m    122\u001b[0m \u001b[38;5;28;01mif\u001b[39;00m missing_vars:\n\u001b[1;32m--> 123\u001b[0m     \u001b[38;5;28;01mraise\u001b[39;00m \u001b[38;5;167;01mValueError\u001b[39;00m(\u001b[38;5;124mf\u001b[39m\u001b[38;5;124m\"\u001b[39m\u001b[38;5;124mPrompt missing required variables: \u001b[39m\u001b[38;5;132;01m{\u001b[39;00mmissing_vars\u001b[38;5;132;01m}\u001b[39;00m\u001b[38;5;124m\"\u001b[39m)\n\u001b[0;32m    125\u001b[0m prompt \u001b[38;5;241m=\u001b[39m prompt\u001b[38;5;241m.\u001b[39mpartial(\n\u001b[0;32m    126\u001b[0m     tools\u001b[38;5;241m=\u001b[39mtools_renderer(\u001b[38;5;28mlist\u001b[39m(tools)),\n\u001b[0;32m    127\u001b[0m     tool_names\u001b[38;5;241m=\u001b[39m\u001b[38;5;124m\"\u001b[39m\u001b[38;5;124m, \u001b[39m\u001b[38;5;124m\"\u001b[39m\u001b[38;5;241m.\u001b[39mjoin([t\u001b[38;5;241m.\u001b[39mname \u001b[38;5;28;01mfor\u001b[39;00m t \u001b[38;5;129;01min\u001b[39;00m tools]),\n\u001b[0;32m    128\u001b[0m )\n\u001b[0;32m    129\u001b[0m \u001b[38;5;28;01mif\u001b[39;00m stop_sequence:\n",
      "\u001b[1;31mValueError\u001b[0m: Prompt missing required variables: {'agent_scratchpad', 'tools', 'tool_names'}"
     ]
    }
   ],
   "source": [
    "# PASS\n",
    "def test_base_llm():\n",
    "    test_agent = OpenAILLMs()\n",
    "    print(test_agent.prompt)\n",
    "    test_agent_result = test_agent(\"What is the weather today\")\n",
    "    return test_agent_result\n",
    "print(test_base_llm())"
   ]
  },
  {
   "cell_type": "markdown",
   "metadata": {},
   "source": [
    "#### Test Master Delegation"
   ]
  },
  {
   "cell_type": "code",
   "execution_count": null,
   "metadata": {},
   "outputs": [],
   "source": [
    "# PASS : USER INTERACTION\n",
    "def test_master_default():\n",
    "    master_agent = MasterWorkflow()\n",
    "    output = master_agent.test_call(mocked_report_empty)\n",
    "    return output\n",
    "print(test_master_default())\n",
    "\n",
    "# PASS : DIAGNOSIS\n",
    "def test_master_diagnosis():\n",
    "    master_agent = MasterWorkflow()\n",
    "    output = master_agent.test_call(mocked_report_patient_filled)\n",
    "    return output\n",
    "# print(test_master_delegation())\n",
    "\n",
    "# PASS : RECOMMENDATION\n",
    "def test_master_recommendation():\n",
    "    master_agent = MasterWorkflow()\n",
    "    output = master_agent.test_call(mocked_report_diagnosis_filled)\n",
    "    return output\n",
    "# print(test_master_recommendation())\n",
    "\n"
   ]
  },
  {
   "cell_type": "markdown",
   "metadata": {},
   "source": [
    "#### Test User Agent and Tools"
   ]
  },
  {
   "cell_type": "code",
   "execution_count": null,
   "metadata": {},
   "outputs": [],
   "source": [
    "# PASS : Works With 'DONE' and 'Generates Reports'\n",
    "def test_user():\n",
    "    \"my symptoms are shortness of breath and acute chest pain\"\n",
    "    \"32\"\n",
    "    \"i do not have any medical history\"\n",
    "    user_agent = UserLLM()\n",
    "    output = user_agent()\n",
    "    return output\n",
    "print(test_user())"
   ]
  },
  {
   "cell_type": "markdown",
   "metadata": {},
   "source": [
    "#### Test Diagnosis Agent and Tools"
   ]
  },
  {
   "cell_type": "code",
   "execution_count": null,
   "metadata": {},
   "outputs": [],
   "source": [
    "def test_diagnose():\n",
    "    diagnosis_agent = DiagnosisLLM()\n",
    "    output = diagnosis_agent(mocked_report_)\n",
    "    return output\n",
    "print(test_diagnose())"
   ]
  },
  {
   "cell_type": "markdown",
   "metadata": {},
   "source": [
    "#### Test Synergies/Workflow"
   ]
  },
  {
   "cell_type": "code",
   "execution_count": null,
   "metadata": {},
   "outputs": [],
   "source": [
    "# STEP ONE PASS : MASTERS TO USER\n",
    "def master_to_user():\n",
    "    master_agent = MasterWorkflow()\n",
    "    output = master_agent.test_run(mocked_report_empty)\n",
    "    return output\n",
    "# print(master_to_user())\n",
    "\n",
    "# STEP TWO PASS: MASTER TO USER TO DIAGNOSIS\n",
    "def master_to_diagnosis():\n",
    "    master_agent = MasterWorkflow()\n",
    "    output = master_agent.test_run(mocked_report_patient_filled)\n",
    "    return output\n",
    "# print(master_to_diagnosis())\n",
    "\n",
    "# STEP THREE : MASTER TO USER TO DIAGNOSIS TO RECOMMENDATION\n",
    "def master_to_recommendation():\n",
    "    return None\n"
   ]
  },
  {
   "cell_type": "markdown",
   "metadata": {},
   "source": [
    "#### Main Workflow"
   ]
  },
  {
   "cell_type": "code",
   "execution_count": null,
   "metadata": {},
   "outputs": [],
   "source": [
    "# # creates class \n",
    "# final_workflow = MasterWorkflow() # called once\n",
    "\n",
    "# # starts with initial form\n",
    "# initiate = final_workflow()"
   ]
  }
 ],
 "metadata": {
  "kernelspec": {
   "display_name": "MAS_env",
   "language": "python",
   "name": "python3"
  },
  "language_info": {
   "codemirror_mode": {
    "name": "ipython",
    "version": 3
   },
   "file_extension": ".py",
   "mimetype": "text/x-python",
   "name": "python",
   "nbconvert_exporter": "python",
   "pygments_lexer": "ipython3",
   "version": "3.11.9"
  }
 },
 "nbformat": 4,
 "nbformat_minor": 2
}
