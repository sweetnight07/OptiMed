{
 "cells": [
  {
   "cell_type": "code",
   "execution_count": 1,
   "metadata": {},
   "outputs": [],
   "source": [
    "# change the directory\n",
    "import os \n",
    "os.chdir(\"c:\\\\Users\\\\jzou2\\\\Fall 2024-2025\\\\Project\\\\OptiMed\")\n",
    "from typing import TypedDict, List, Annotated\n",
    "from operator import add\n",
    "\n",
    "\n",
    "# import relevant packages\n",
    "from agents.base_llm import OpenAILLMs\n",
    "from agents.master import MasterWorkflow\n",
    "from agents.user import UserLLM\n",
    "from agents.diagnosis import DiagnosisLLM\n",
    "\n",
    "# from agents.diagnosis_team.diagnosis_coordinator import DiagnosticCoordinator\n",
    "# from agents.diagnosis_team.generalist import GeneralistLLM"
   ]
  },
  {
   "cell_type": "code",
   "execution_count": 2,
   "metadata": {},
   "outputs": [],
   "source": [
    "class Report(TypedDict):\n",
    "    \"\"\"\n",
    "    Defines the state for the multi-agent workflow\n",
    "    Includes messages, patient input, and workflow states\n",
    "    \"\"\"\n",
    "    patient_input: str\n",
    "    messages: Annotated[List[dict], add]\n",
    "    diagnosis: str\n",
    "    recommendations: str\n",
    "    appointment_details: str\n",
    "\n",
    "mocked_report_empty : Report = {'patient_input': '',\n",
    "                          'messages' : [],\n",
    "                          'diagnosis' : '',\n",
    "                          'recommendations' : '',\n",
    "                          'appointment_details' : '',\n",
    "}\n",
    "\n",
    "mocked_report_patient_filled : Report = {'patient_input': 'The user is a 45-year-old male named John Doe who is experiencing persistent chest pain, shortness of breath, occasional dizziness, and fatigue for the past two weeks. His medical history includes hypertension managed with medication and borderline high cholesterol with no current treatment.',\n",
    "                          'messages' : [],\n",
    "                          'diagnosis' : '',\n",
    "                          'recommendations' : '',\n",
    "                          'appointment_details' : '',\n",
    "}\n",
    "\n",
    "mocked_report_diagnosis_filled : Report = {'patient_input': 'The user is a 45-year-old male named John Doe who is experiencing persistent chest pain, shortness of breath, occasional dizziness, and fatigue for the past two weeks. His medical history includes hypertension managed with medication and borderline high cholesterol with no current treatment.',\n",
    "                          'messages' : [],\n",
    "                          'diagnosis' : 'The possible diagnoses for John Doe include acute coronary syndrome, stable angina, heart failure, hypertensive heart disease, pulmonary embolism, gastroesophageal reflux disease, or anxiety/panic attack, and further tests are needed to confirm the diagnosis.',\n",
    "                          'recommendations' : '',\n",
    "                          'appointment_details' : '',\n",
    "}\n",
    "\n",
    "mock_patient_info = \"\"\"\n",
    "John Doe, a 45-year-old male, reports experiencing persistent chest pain, shortness of breath, occasional dizziness, and fatigue for the past two weeks. His medical history includes hypertension diagnosed five years ago, managed with medication, and borderline high cholesterol with no current treatment. He has a family history of heart disease, as his father suffered a heart attack at age 50. He has no known allergies.\n",
    "\"\"\"\n",
    "\n"
   ]
  },
  {
   "cell_type": "markdown",
   "metadata": {},
   "source": [
    "#### Test Base LLMs"
   ]
  },
  {
   "cell_type": "code",
   "execution_count": 7,
   "metadata": {},
   "outputs": [],
   "source": [
    "# PASS\n",
    "def test_base_llm():\n",
    "    test_agent = OpenAILLMs()\n",
    "    print(test_agent.prompt)\n",
    "    test_agent_result = test_agent(\"What is the weather today\")\n",
    "    return test_agent_result\n",
    "# print(test_base_llm())"
   ]
  },
  {
   "cell_type": "markdown",
   "metadata": {},
   "source": [
    "#### Test Master Delegation"
   ]
  },
  {
   "cell_type": "code",
   "execution_count": 8,
   "metadata": {},
   "outputs": [],
   "source": [
    "# PASS : USER INTERACTION\n",
    "def test_master_default():\n",
    "    master_agent = MasterWorkflow()\n",
    "    output = master_agent.test_call(mocked_report_empty)\n",
    "    return output\n",
    "# print(test_master_default())\n",
    "\n",
    "# PASS : DIAGNOSIS\n",
    "def test_master_diagnosis():\n",
    "    master_agent = MasterWorkflow()\n",
    "    output = master_agent.test_call(mocked_report_patient_filled)\n",
    "    return output\n",
    "# print(test_master_delegation())\n",
    "\n",
    "# PASS : RECOMMENDATION\n",
    "def test_master_recommendation():\n",
    "    master_agent = MasterWorkflow()\n",
    "    output = master_agent.test_call(mocked_report_diagnosis_filled)\n",
    "    return output\n",
    "# print(test_master_recommendation())\n",
    "\n"
   ]
  },
  {
   "cell_type": "markdown",
   "metadata": {},
   "source": [
    "#### Test User Agent and Tools"
   ]
  },
  {
   "cell_type": "code",
   "execution_count": 9,
   "metadata": {},
   "outputs": [],
   "source": [
    "# PASS\n",
    "def test_user():\n",
    "    \"my symptoms are shortness of breath and acute chest pain\"\n",
    "    \"32\"\n",
    "    \"i do not have any medical history\"\n",
    "    user_agent = UserLLM()\n",
    "    output = user_agent()\n",
    "    return output\n",
    "# print(test_user())"
   ]
  },
  {
   "cell_type": "markdown",
   "metadata": {},
   "source": [
    "#### Test Diagnosis Agent and Tools"
   ]
  },
  {
   "cell_type": "code",
   "execution_count": 3,
   "metadata": {},
   "outputs": [
    {
     "name": "stdout",
     "output_type": "stream",
     "text": [
      "START OF TEMPLATE\n",
      "\n",
      "Your goal is to provide a diagnosis given the info of the patient.\n",
      "\n",
      "You have access to the following tools:\n",
      "\n",
      "{tools}\n",
      "\n",
      "Use the following format:\n",
      "\n",
      "Thought and Reasoning: From reading the patient info, if you can make a diagnose then please feel free to do, if the diagnosis is unclear then state 'Unknown'\n",
      "Action: the action to take, should be one of [{tool_names}]\n",
      "Action Input: the input to the action\n",
      "Observation: the result of the action\n",
      "... (this Thought and Reasoning/Action/Action Input/Observation can repeat 3 times)\n",
      "Thought: I now know the final answer\n",
      "Final Answer: the final answer to the original input question\n",
      "\n",
      "Begin!\n",
      "\n",
      "Here is the current form:\n",
      "\n",
      "{input}\n",
      "\n",
      "(END OF FORM)\n",
      "\n",
      "Thought: {agent_scratchpad}\n",
      "\n",
      "END OF TEMPLATE\n",
      "input_variables=['agent_scratchpad', 'input', 'tool_names', 'tools'] input_types={} partial_variables={} messages=[SystemMessage(content=\"\\nYou are the Diagnosis Agent.\\n\\nYour task is to analyze the patient's input from the **patient_input** section of the report and provide a detailed diagnosis.\\n\\n- Focus on identifying any potential conditions or illnesses based on the provided symptoms, medical history, and relevant patient details.\\n- Use concise medical reasoning to explain your conclusions.\\n- If there isn't enough information to make a diagnosis, indicate that further details or tests are needed.\\n- Avoid making unsubstantiated claims; rely on the given data to guide your response.\\n\\nDeliver your diagnosis in a structured format.\\n\", additional_kwargs={}, response_metadata={}), HumanMessagePromptTemplate(prompt=PromptTemplate(input_variables=['agent_scratchpad', 'input', 'tool_names', 'tools'], input_types={}, partial_variables={}, template=\"\\nYour goal is to provide a diagnosis given the info of the patient.\\n\\nYou have access to the following tools:\\n\\n{tools}\\n\\nUse the following format:\\n\\nThought and Reasoning: From reading the patient info, if you can make a diagnose then please feel free to do, if the diagnosis is unclear then state 'Unknown'\\nAction: the action to take, should be one of [{tool_names}]\\nAction Input: the input to the action\\nObservation: the result of the action\\n... (this Thought and Reasoning/Action/Action Input/Observation can repeat 3 times)\\nThought: I now know the final answer\\nFinal Answer: the final answer to the original input question\\n\\nBegin!\\n\\nHere is the current form:\\n\\n{input}\\n\\n(END OF FORM)\\n\\nThought: {agent_scratchpad}\\n\"), additional_kwargs={})]\n",
      "\n",
      "\n",
      "\u001b[1m> Entering new AgentExecutor chain...\u001b[0m\n",
      "\u001b[32;1m\u001b[1;3mThought and Reasoning: The patient, John Doe, is a 45-year-old male with a history of hypertension and borderline high cholesterol. He presents with symptoms of persistent chest pain, shortness of breath, occasional dizziness, and fatigue lasting for two weeks. These symptoms raise concerns for potential cardiovascular issues, such as angina or even myocardial infarction (heart attack), especially given his age and medical history. The combination of chest pain and shortness of breath is particularly alarming and warrants immediate attention. \n",
      "\n",
      "Action: respond_tool\n",
      "Action Input: \"Based on the symptoms of persistent chest pain, shortness of breath, dizziness, and fatigue, along with a history of hypertension and borderline high cholesterol, there is a significant concern for potential cardiovascular issues. It is crucial for the patient to seek immediate medical evaluation to rule out serious conditions such as angina or myocardial infarction.\"\n",
      "\u001b[0m\u001b[36;1m\u001b[1;3mResponse: Based on the symptoms of persistent chest pain, shortness of breath, dizziness, and fatigue, along with a history of hypertension and borderline high cholesterol, there is a significant concern for potential cardiovascular issues. It is crucial for the patient to seek immediate medical evaluation to rule out serious conditions such as angina or myocardial infarction.\"\n",
      "\u001b[0m\u001b[32;1m\u001b[1;3mThought and Reasoning: The symptoms presented by John Doe, including persistent chest pain, shortness of breath, dizziness, and fatigue, combined with his medical history of hypertension and borderline high cholesterol, strongly suggest a potential cardiovascular issue. The duration of the symptoms (two weeks) and their nature are concerning for conditions such as angina or myocardial infarction. Given these factors, immediate medical evaluation is warranted to assess the risk of serious cardiac events.\n",
      "\n",
      "Action: respond_tool\n",
      "Action Input: \"It is imperative for John Doe to undergo a thorough medical evaluation, including an ECG and possibly cardiac imaging, to assess for any underlying cardiovascular conditions. Given the severity and duration of his symptoms, prompt attention is necessary to ensure appropriate management and intervention.\"\n",
      "\u001b[0m\u001b[36;1m\u001b[1;3mResponse: It is imperative for John Doe to undergo a thorough medical evaluation, including an ECG and possibly cardiac imaging, to assess for any underlying cardiovascular conditions. Given the severity and duration of his symptoms, prompt attention is necessary to ensure appropriate management and intervention.\"\n",
      "\u001b[0m\u001b[32;1m\u001b[1;3mThought and Reasoning: The information provided indicates that John Doe is experiencing significant symptoms that are concerning for serious cardiovascular issues. The combination of persistent chest pain, shortness of breath, dizziness, and fatigue, especially in the context of his medical history of hypertension and borderline high cholesterol, suggests a high risk for conditions such as angina or myocardial infarction. The urgency of his symptoms, particularly their persistence over two weeks, necessitates immediate medical evaluation.\n",
      "\n",
      "Action: respond_tool\n",
      "Action Input: \"Given the concerning symptoms and medical history, John Doe should prioritize seeking immediate medical attention. A healthcare provider will likely perform diagnostic tests such as an ECG, blood tests, and possibly imaging studies to evaluate his cardiovascular health and determine the appropriate course of action.\"\n",
      "\u001b[0m\u001b[36;1m\u001b[1;3mResponse: Given the concerning symptoms and medical history, John Doe should prioritize seeking immediate medical attention. A healthcare provider will likely perform diagnostic tests such as an ECG, blood tests, and possibly imaging studies to evaluate his cardiovascular health and determine the appropriate course of action.\"\n",
      "\u001b[0m\u001b[32;1m\u001b[1;3mI now know the final answer.\n",
      "\n",
      "Final Answer: John Doe is experiencing concerning symptoms indicative of potential cardiovascular issues, such as angina or myocardial infarction, given his persistent chest pain, shortness of breath, dizziness, and fatigue, along with a history of hypertension and borderline high cholesterol. Immediate medical evaluation is essential for proper diagnosis and management.\u001b[0m\n",
      "\n",
      "\u001b[1m> Finished chain.\u001b[0m\n",
      "John Doe is experiencing concerning symptoms indicative of potential cardiovascular issues, such as angina or myocardial infarction, given his persistent chest pain, shortness of breath, dizziness, and fatigue, along with a history of hypertension and borderline high cholesterol. Immediate medical evaluation is essential for proper diagnosis and management.\n"
     ]
    }
   ],
   "source": [
    "# PASS\n",
    "def test_diagnose():\n",
    "    diagnosis_agent = DiagnosisLLM()\n",
    "    output = diagnosis_agent(mocked_report_patient_filled)\n",
    "    return output\n",
    "print(test_diagnose())"
   ]
  },
  {
   "cell_type": "markdown",
   "metadata": {},
   "source": [
    "#### Test Synergies/Workflow"
   ]
  },
  {
   "cell_type": "code",
   "execution_count": null,
   "metadata": {},
   "outputs": [
    {
     "name": "stdout",
     "output_type": "stream",
     "text": [
      "START OF TEMPLATE\n",
      "\n",
      "Please delegate the agents needed to fill out the form below:\n",
      "\n",
      "You do not have any tools:\n",
      "\n",
      "{tools} or {tool_names}\n",
      "\n",
      "Here are the agents names:\n",
      "\n",
      "- USER INTERACTION: Responsible for filling out the **patient_input** field.\n",
      "- DIAGNOSIS: Responsible for filling out the **diagnosis** field.\n",
      "- RECOMMENDATION: Responsible for filling out the **recommendations** field.\n",
      "- SCHEDULER: Responsible for filling out the **appointment_details** field.\n",
      "\n",
      "For example if the diagnosis and patient info are filled then we delegate to the recommendation\n",
      "(END OF AGENT LIST)\n",
      "\n",
      "Use the following format:\n",
      "\n",
      "Thought and Reasoning: Think about which agent should complete the form based on the task.\n",
      "Action: [agent_name]\n",
      "Final Answer: The final answer should be the agent name.\n",
      "\n",
      "Begin!\n",
      "\n",
      "Here is the current form:\n",
      "\n",
      "{input}\n",
      "\n",
      "(END OF FORM)\n",
      "\n",
      "Thought: {agent_scratchpad}\n",
      "\n",
      "END OF TEMPLATE\n",
      "input_variables=['agent_scratchpad', 'input', 'tool_names', 'tools'] input_types={} partial_variables={} messages=[SystemMessage(content=\"\\nYou are the orchestrator in a hospital setting. Your task is to manage and delegate tasks across the following agents, one at a time, in chronological order:\\n\\nStep 1: User Interaction Agent\\n   - Completes the **patient_input** in the report.\\n\\nStep 2: Diagnosis Agent\\n   - Completes **diagnosis** based on the **patient input** report.\\n\\nStep 3: Recommendation Agent\\n   - Suggests next steps after a diagnosis (e.g., treatment plans, tests, referrals).\\n\\nStep 4: Scheduler Agent\\n   - Schedules appointments based on recommendations and patient's availability.\\n\\nYou cannot delegate tasks to multiple agents at once; follow the sequence step by step.\\n\", additional_kwargs={}, response_metadata={}), HumanMessagePromptTemplate(prompt=PromptTemplate(input_variables=['agent_scratchpad', 'input', 'tool_names', 'tools'], input_types={}, partial_variables={}, template='\\nPlease delegate the agents needed to fill out the form below:\\n\\nYou do not have any tools:\\n\\n{tools} or {tool_names}\\n\\nHere are the agents names:\\n\\n- USER INTERACTION: Responsible for filling out the **patient_input** field.\\n- DIAGNOSIS: Responsible for filling out the **diagnosis** field.\\n- RECOMMENDATION: Responsible for filling out the **recommendations** field.\\n- SCHEDULER: Responsible for filling out the **appointment_details** field.\\n\\nFor example if the diagnosis and patient info are filled then we delegate to the recommendation\\n(END OF AGENT LIST)\\n\\nUse the following format:\\n\\nThought and Reasoning: Think about which agent should complete the form based on the task.\\nAction: [agent_name]\\nFinal Answer: The final answer should be the agent name.\\n\\nBegin!\\n\\nHere is the current form:\\n\\n{input}\\n\\n(END OF FORM)\\n\\nThought: {agent_scratchpad}\\n'), additional_kwargs={})]\n",
      "START OF TEMPLATE\n",
      "\n",
      "You have access to the following tools:\n",
      "\n",
      "{tools}\n",
      "\n",
      "Your goal is to provide a concise summary of the user's information once all necessary details have been gathered.\n",
      "\n",
      "Use the following format:\n",
      "\n",
      "Thought and Reasoning: Consider whether you have enough information to proceed or need more details. Clearly explain your reasoning.\n",
      "Action: If a tool usage is required, specify an action to take (must be one of [{tool_names}]).\n",
      "Action Input: Provide the specific input required for the action.\n",
      "Observation: Document the result of the action or information provided by the user.\n",
      "... (this Thought and Reasoning/Action/Action Input/Observation can repeat N times)\n",
      "\n",
      "Thought: Conclude that you now have sufficient information.\n",
      "Final Answer: Provide a concise summary of the user's information based on the details gathered.\n",
      "\n",
      "Begin!\n",
      "{input}\n",
      "{agent_scratchpad}\n",
      "\n",
      "END OF TEMPLATE\n",
      "input_variables=['agent_scratchpad', 'input', 'tool_names', 'tools'] input_types={} partial_variables={} messages=[SystemMessage(content=\"\\nYou are the User Interaction Agent.  \\n\\nYour primary role is to interact with patients to gather missing or incomplete information.  \\n\\nInformation Gathering:  \\n   - Ask patients for missing details regarding:  \\n     - Symptoms  \\n     - Age  \\n     - Medical history  \\n\\nIf the user inputs 'DONE' then you will no longer prompt and execute\\n\", additional_kwargs={}, response_metadata={}), HumanMessagePromptTemplate(prompt=PromptTemplate(input_variables=['agent_scratchpad', 'input', 'tool_names', 'tools'], input_types={}, partial_variables={}, template=\"\\nYou have access to the following tools:\\n\\n{tools}\\n\\nYour goal is to provide a concise summary of the user's information once all necessary details have been gathered.\\n\\nUse the following format:\\n\\nThought and Reasoning: Consider whether you have enough information to proceed or need more details. Clearly explain your reasoning.\\nAction: If a tool usage is required, specify an action to take (must be one of [{tool_names}]).\\nAction Input: Provide the specific input required for the action.\\nObservation: Document the result of the action or information provided by the user.\\n... (this Thought and Reasoning/Action/Action Input/Observation can repeat N times)\\n\\nThought: Conclude that you now have sufficient information.\\nFinal Answer: Provide a concise summary of the user's information based on the details gathered.\\n\\nBegin!\\n{input}\\n{agent_scratchpad}\\n\"), additional_kwargs={})]\n"
     ]
    }
   ],
   "source": [
    "# STEP ONE PASS : MASTERS TO USER\n",
    "def master_to_user():\n",
    "    master_agent = MasterWorkflow()\n",
    "    output = master_agent.test_run(mocked_report_empty)\n",
    "    return output\n",
    "print(master_to_user())\n",
    "\n",
    "# STEP TWO PASS: MASTER TO USER TO DIAGNOSIS\n",
    "def master_to_diagnosis():\n",
    "    master_agent = MasterWorkflow()\n",
    "    output = master_agent.test_run(mocked_report_patient_filled)\n",
    "    return output\n",
    "# print(master_to_diagnosis())\n",
    "\n",
    "# STEP THREE : MASTER TO USER TO DIAGNOSIS TO RECOMMENDATION\n",
    "def master_to_recommendation():\n",
    "    return None\n"
   ]
  },
  {
   "cell_type": "markdown",
   "metadata": {},
   "source": [
    "#### Main Workflow"
   ]
  },
  {
   "cell_type": "code",
   "execution_count": null,
   "metadata": {},
   "outputs": [],
   "source": [
    "# # creates class \n",
    "# final_workflow = MasterWorkflow() # called once\n",
    "\n",
    "# # starts with initial form\n",
    "# initiate = final_workflow()"
   ]
  }
 ],
 "metadata": {
  "kernelspec": {
   "display_name": "MAS_env",
   "language": "python",
   "name": "python3"
  },
  "language_info": {
   "codemirror_mode": {
    "name": "ipython",
    "version": 3
   },
   "file_extension": ".py",
   "mimetype": "text/x-python",
   "name": "python",
   "nbconvert_exporter": "python",
   "pygments_lexer": "ipython3",
   "version": "3.11.9"
  }
 },
 "nbformat": 4,
 "nbformat_minor": 2
}
