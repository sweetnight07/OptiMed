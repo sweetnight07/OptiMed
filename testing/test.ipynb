{
 "cells": [
  {
   "cell_type": "code",
   "execution_count": 1,
   "metadata": {},
   "outputs": [],
   "source": [
    "# change the directory\n",
    "import os \n",
    "os.chdir(\"c:\\\\Users\\\\jzou2\\\\Fall 2024-2025\\\\Project\\\\OptiMed\")\n",
    "from typing import TypedDict, List\n",
    "\n",
    "\n",
    "# import relevant packages\n",
    "from agents.base_llm import OpenAILLMs\n",
    "from agents.master import MasterWorkflow\n",
    "from agents.diagnosis.diagnosis_coordinator import DiagnosticCoordinator\n",
    "\n",
    "from agents.diagnosis.generalist import GeneralistLLM"
   ]
  },
  {
   "cell_type": "markdown",
   "metadata": {},
   "source": [
    "#### Initial Setup"
   ]
  },
  {
   "cell_type": "code",
   "execution_count": null,
   "metadata": {},
   "outputs": [],
   "source": [
    "# Define the Report type for passing\n",
    "class Report(TypedDict):\n",
    "    \"\"\"\n",
    "    Defines the state for the multi-agent workflow.\n",
    "    Includes messages, patient info, and workflow states.\n",
    "    \"\"\"\n",
    "    patient_info: str\n",
    "    messages: List[dict]\n",
    "    diagnosis: str\n",
    "    recommendations: str\n",
    "    appointment_details: str\n",
    "\n",
    "\n",
    "# Mock report with no messages\n",
    "mock_diagnostic_report_no_messages: Report = {\n",
    "    \"patient_info\": \"Patient: John Doe, Age: 45, Gender: Male, Medical History: Hypertension, Asthma, Allergies: Penicillin. His Current Symptoms Is Shortness Of Breath And Chest Pain\",\n",
    "    \"messages\": [],\n",
    "    \"diagnosis\": \"\",\n",
    "    \"recommendations\": \"\",\n",
    "    \"appointment_details\": \"\"\n",
    "}\n",
    "\n",
    "# Mock report with messages\n",
    "mock_diagnostic_report_yes_messages: Report = {\n",
    "    \"patient_info\": \"Patient: John Doe, Age: 45, Gender: Male, Medical History: Hypertension, Asthma, Allergies: Penicillin. His Current Symptoms Is Shortness Of Breath And Chest Pain\",\n",
    "    \"messages\": [{\"role\": \"generalist\", \"content\": \"This might be a heart attack\"}],  # Ensure correct role casing\n",
    "    \"diagnosis\": \"\",\n",
    "    \"recommendations\": \"\",\n",
    "    \"appointment_details\": \"\"\n",
    "}\n"
   ]
  },
  {
   "cell_type": "markdown",
   "metadata": {},
   "source": [
    "#### Test Base LLM Call"
   ]
  },
  {
   "cell_type": "code",
   "execution_count": 2,
   "metadata": {},
   "outputs": [
    {
     "name": "stdout",
     "output_type": "stream",
     "text": [
      "\n",
      "\n",
      "\u001b[1m> Entering new AgentExecutor chain...\u001b[0m\n",
      "\u001b[32;1m\u001b[1;3mAction: [Respond to the greeting]\n",
      "Action Input: \"I'm just a program, but I'm here to help you! How can I assist you today?\"\u001b[0m[Respond to the greeting] is not a valid tool, try one of [].\u001b[32;1m\u001b[1;3mQuestion: Hi how are you  \n",
      "Thought: I need to respond to the greeting appropriately.  \n",
      "Action: [Respond]  \n",
      "Action Input: \"I'm just a program, but I'm here to help you! How can I assist you today?\"  \u001b[0m[Respond] is not a valid tool, try one of [].\u001b[32;1m\u001b[1;3mQuestion: Hi how are you  \n",
      "Thought: I need to respond to the greeting appropriately. Since I'm a program, I don't have feelings, but I can express my purpose.  \n",
      "Action: [Provide a greeting response]  \n",
      "Action Input: \"I'm just a program, but I'm here to help you! How can I assist you today?\"  \u001b[0m[Provide a greeting response] is not a valid tool, try one of [].\u001b[32;1m\u001b[1;3mQuestion: Hi how are you  \n",
      "Thought: I need to respond to the greeting appropriately. Since I'm a program, I don't have feelings, but I can express my purpose.  \n",
      "Action: [Provide information]  \n",
      "Action Input: \"I'm just a program, but I'm here to help you! How can I assist you today?\"  \u001b[0m[Provide information] is not a valid tool, try one of [].\u001b[32;1m\u001b[1;3mQuestion: Hi how are you  \n",
      "Thought: I need to respond to the greeting appropriately. Since I'm a program, I don't have feelings, but I can express my purpose.  \n",
      "Action: [Respond with a greeting]  \n",
      "Action Input: \"I'm just a program, but I'm here to help you! How can I assist you today?\"  \u001b[0m[Respond with a greeting] is not a valid tool, try one of [].\u001b[32;1m\u001b[1;3mQuestion: Hi how are you  \n",
      "Thought: I need to respond to the greeting appropriately. Since I'm a program, I don't have feelings, but I can express my purpose.  \n",
      "Action: [Provide a response]  \n",
      "Action Input: \"I'm just a program, but I'm here to help you! How can I assist you today?\"  \u001b[0m[Provide a response] is not a valid tool, try one of [].\u001b[32;1m\u001b[1;3mQuestion: Hi how are you  \n",
      "Thought: I need to respond to the greeting appropriately. Since I'm a program, I don't have feelings, but I can express my purpose.  \n",
      "Action: [None]  \n",
      "Action Input: None  \u001b[0m[None] is not a valid tool, try one of [].\u001b[32;1m\u001b[1;3mQuestion: Hi how are you  \n",
      "Thought: I need to respond to the greeting appropriately. Since I'm a program, I don't have feelings, but I can express my purpose.  \n",
      "Action: [None]  \n",
      "Action Input: None  \u001b[0m[None] is not a valid tool, try one of [].\u001b[32;1m\u001b[1;3mQuestion: Hi how are you  \n",
      "Thought: I need to respond to the greeting appropriately. Since I'm a program, I don't have feelings, but I can express my purpose.  \n",
      "Action: [None]  \n",
      "Action Input: None  \u001b[0m[None] is not a valid tool, try one of [].\u001b[32;1m\u001b[1;3mQuestion: Hi how are you  \n",
      "Thought: I need to respond to the greeting appropriately. Since I'm a program, I don't have feelings, but I can express my purpose.  \n",
      "Action: [None]  \n",
      "Action Input: None  \u001b[0m[None] is not a valid tool, try one of [].\u001b[32;1m\u001b[1;3mQuestion: Hi how are you  \n",
      "Thought: I need to respond to the greeting appropriately. Since I'm a program, I don't have feelings, but I can express my purpose.  \n",
      "Action: [None]  \n",
      "Action Input: None  \u001b[0m[None] is not a valid tool, try one of [].\u001b[32;1m\u001b[1;3mQuestion: Hi how are you  \n",
      "Thought: I need to respond to the greeting appropriately. Since I'm a program, I don't have feelings, but I can express my purpose.  \n",
      "Action: [None]  \n",
      "Action Input: None  \u001b[0m[None] is not a valid tool, try one of [].\u001b[32;1m\u001b[1;3mQuestion: Hi how are you  \n",
      "Thought: I need to respond to the greeting appropriately. Since I'm a program, I don't have feelings, but I can express my purpose.  \n",
      "Action: [None]  \n",
      "Action Input: None  \u001b[0m[None] is not a valid tool, try one of [].\u001b[32;1m\u001b[1;3mQuestion: Hi how are you  \n",
      "Thought: I need to respond to the greeting appropriately. Since I'm a program, I don't have feelings, but I can express my purpose.  \n",
      "Action: [None]  \n",
      "Action Input: None  \u001b[0m[None] is not a valid tool, try one of [].\u001b[32;1m\u001b[1;3mQuestion: Hi how are you  \n",
      "Thought: I need to respond to the greeting appropriately. Since I'm a program, I don't have feelings, but I can express my purpose.  \n",
      "Action: [None]  \n",
      "Action Input: None  \u001b[0m[None] is not a valid tool, try one of [].\u001b[32;1m\u001b[1;3m\u001b[0m\n",
      "\n",
      "\u001b[1m> Finished chain.\u001b[0m\n",
      "('Unspecified Agent', 'Agent stopped due to iteration limit or time limit.')\n"
     ]
    }
   ],
   "source": [
    "def test_base_llm_call():\n",
    "    test_agent = OpenAILLMs()\n",
    "    test_agent_result = test_agent(\"Hi how are you\")\n",
    "    return test_agent_result\n",
    "print(test_base_llm_call())"
   ]
  },
  {
   "cell_type": "markdown",
   "metadata": {},
   "source": [
    "#### Test Masters Coordinator and LangGraph"
   ]
  },
  {
   "cell_type": "code",
   "execution_count": null,
   "metadata": {},
   "outputs": [],
   "source": [
    "def test_init_master():\n",
    "    \"i am 50 years old, and my patient id is 12345 and i have shortness of breath and chest pain\"\n",
    "    master_agent = MasterWorkflow()\n",
    "test_init_master()"
   ]
  },
  {
   "cell_type": "code",
   "execution_count": null,
   "metadata": {},
   "outputs": [],
   "source": [
    "def test_diagnostic_coordinator():\n",
    "    \"i am 50 years old, and my patient id is 12345 and i have shortness of breath and chest pain\"\n",
    "    master_agent = MasterWorkflow()\n",
    "    \"i started having chest pain 2 days and i get sharp pain occasionally, maybe a little diziness as well\"\n",
    "    master_agent()\n",
    "    \"No\"\n",
    "test_diagnostic_coordinator()"
   ]
  },
  {
   "cell_type": "markdown",
   "metadata": {},
   "source": [
    "#### Test Diagnosis Coordinator"
   ]
  },
  {
   "cell_type": "code",
   "execution_count": null,
   "metadata": {},
   "outputs": [],
   "source": [
    "# individually\n",
    "def test_individual_diagnostic_coordinator():\n",
    "    print(type(mock_diagnostic_report_yes_messages))\n",
    "    diagnostic_agent = DiagnosticCoordinator(mock_diagnostic_report_yes_messages)\n",
    "    diagnostic_agent()\n",
    "    \n",
    "test_individual_diagnostic_coordinator()\n",
    "# # pipelinea\n",
    "# def test_pipeline_diagnostic_coordinator():\n"
   ]
  },
  {
   "cell_type": "code",
   "execution_count": null,
   "metadata": {},
   "outputs": [],
   "source": [
    "def test_cardiologist():\n",
    "    "
   ]
  }
 ],
 "metadata": {
  "kernelspec": {
   "display_name": "MAS_env",
   "language": "python",
   "name": "python3"
  },
  "language_info": {
   "codemirror_mode": {
    "name": "ipython",
    "version": 3
   },
   "file_extension": ".py",
   "mimetype": "text/x-python",
   "name": "python",
   "nbconvert_exporter": "python",
   "pygments_lexer": "ipython3",
   "version": "3.11.9"
  }
 },
 "nbformat": 4,
 "nbformat_minor": 2
}
