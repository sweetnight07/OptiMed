{
 "cells": [
  {
   "cell_type": "code",
   "execution_count": 1,
   "metadata": {},
   "outputs": [],
   "source": [
    "# change the directory\n",
    "import os \n",
    "os.chdir(\"c:\\\\Users\\\\jzou2\\\\Fall 2024-2025\\\\Project\\\\OptiMed\")\n",
    "\n",
    "# import relevant packages\n",
    "from agents.agent import OpenAILLMs\n",
    "from agents.diagnosis.generalist import GeneralistLLM"
   ]
  },
  {
   "cell_type": "markdown",
   "metadata": {},
   "source": [
    "#### Test Base LLM Call"
   ]
  },
  {
   "cell_type": "code",
   "execution_count": null,
   "metadata": {},
   "outputs": [],
   "source": [
    "\n",
    "def test_base_llm_call():\n",
    "    test_agent = OpenAILLMs(model_name=\"gpt-4o-mini\")\n",
    "    test_agent_result = test_agent(\"Hi how are you\")\n",
    "    return test_agent_result\n",
    "print(test_base_llm_call())"
   ]
  },
  {
   "cell_type": "markdown",
   "metadata": {},
   "source": [
    "#### Test Conversation Among Doctors"
   ]
  },
  {
   "cell_type": "code",
   "execution_count": 2,
   "metadata": {},
   "outputs": [
    {
     "name": "stdout",
     "output_type": "stream",
     "text": [
      "openAI API Key loaded successfully.\n"
     ]
    },
    {
     "name": "stderr",
     "output_type": "stream",
     "text": [
      "c:\\Users\\jzou2\\Fall 2024-2025\\Project\\OptiMed\\agents\\agent.py:26: LangChainDeprecationWarning: The class `ChatOpenAI` was deprecated in LangChain 0.0.10 and will be removed in 1.0. An updated version of the class exists in the :class:`~langchain-openai package and should be used instead. To use it run `pip install -U :class:`~langchain-openai` and import as `from :class:`~langchain_openai import ChatOpenAI``.\n",
      "  self.llm = ChatOpenAI(api_key = openai_key, model=model_name, temperature=0.7) # might change teh temperature to debug\n",
      "c:\\Users\\jzou2\\Fall 2024-2025\\Project\\OptiMed\\agents\\agent.py:41: LangChainDeprecationWarning: The function `initialize_agent` was deprecated in LangChain 0.1.0 and will be removed in 1.0. Use :meth:`~Use new agent constructor methods like create_react_agent, create_json_agent, create_structured_chat_agent, etc.` instead.\n",
      "  self.agent = initialize_agent(\n",
      "c:\\Users\\jzou2\\Fall 2024-2025\\Project\\OptiMed\\agents\\agent.py:56: LangChainDeprecationWarning: The method `Chain.__call__` was deprecated in langchain 0.1.0 and will be removed in 1.0. Use :meth:`~invoke` instead.\n",
      "  result = self.agent(messages)\n"
     ]
    },
    {
     "name": "stdout",
     "output_type": "stream",
     "text": [
      "\n",
      "\n",
      "\u001b[1m> Entering new AgentExecutor chain...\u001b[0m\n",
      "\u001b[32;1m\u001b[1;3mI need to assess the patient's historical medical records to gain more insight into their health status before making any recommendations. This will help me understand if there are any underlying conditions or previous issues that might be relevant to the current symptoms of shortness of breath and inconsistent heart rate.\n",
      "\n",
      "Action: access_patient_history  \n",
      "Action Input: \"12345\"  \u001b[0m\n",
      "Observation: \u001b[36;1m\u001b[1;3m{'conditions': ['hypertension', 'type 2 diabetes'], 'medications': ['lisinopril', 'metformin'], 'allergies': ['penicillin'], 'previous_visits': [{'date': '2023-12-15', 'reason': 'routine checkup', 'findings': 'blood pressure elevated (140/90)', 'treatment': 'adjusted lisinopril dosage'}, {'date': '2023-08-20', 'reason': 'chest pain', 'findings': 'non-cardiac chest pain, likely musculoskeletal', 'treatment': 'prescribed NSAIDs'}], 'lab_results': [{'date': '2023-12-15', 'type': 'HbA1c', 'value': '6.8%', 'reference': '4.0-5.6%'}, {'date': '2023-12-15', 'type': 'Lipid Panel', 'value': 'LDL: 130mg/dL', 'reference': '<100mg/dL'}]}\u001b[0m\n",
      "Thought:\u001b[32;1m\u001b[1;3mThe patient's historical medical records show they have hypertension and type 2 diabetes, which could be relevant to the current symptoms of shortness of breath and inconsistent heart rate. Given their elevated blood pressure and lab results indicating poor diabetes control (HbA1c of 6.8% and LDL cholesterol at 130 mg/dL), these factors are concerning. \n",
      "\n",
      "I will now generate a referral recommendation to determine the next steps for this patient, considering their symptoms and relevant medical history.\n",
      "\n",
      "Action: referral_recommendation  \n",
      "Action Input: '{\"symptoms\": [\"shortness of breath\", \"inconsistent heartrate\"], \"risk_factors\": [\"hypertension\", \"type 2 diabetes\"]}'  \u001b[0m\n",
      "Observation: \u001b[33;1m\u001b[1;3mBased on the provided symptoms and history: '{\"symptoms\": [\"shortness of breath\", \"inconsistent heartrate\"], \"risk_factors\": [\"hypertension\", \"type 2 diabetes\"]}', here are the referral recommendations...\u001b[0m\n",
      "Thought:\u001b[32;1m\u001b[1;3mI need to summarize the referral recommendations based on the patient's symptoms and risk factors.\n",
      "\n",
      "Final Answer: Based on the patient's symptoms of shortness of breath and inconsistent heart rate, along with their medical history of hypertension and type 2 diabetes, it is recommended to refer the patient to a cardiologist for further evaluation and management. Additionally, a consultation with an endocrinologist may be beneficial to address their diabetes management.\u001b[0m\n",
      "\n",
      "\u001b[1m> Finished chain.\u001b[0m\n",
      "Based on the patient's symptoms of shortness of breath and inconsistent heart rate, along with their medical history of hypertension and type 2 diabetes, it is recommended to refer the patient to a cardiologist for further evaluation and management. Additionally, a consultation with an endocrinologist may be beneficial to address their diabetes management.\n"
     ]
    }
   ],
   "source": [
    "def test_generalist():\n",
    "    generalist_agent = GeneralistLLM(model_name=\"gpt-4o-mini\")\n",
    "    patient_id = \"12345\"\n",
    "    symptoms = \"shortness of breath, inconsistent heartrate\"\n",
    "    return generalist_agent(patient_id=patient_id, symptoms=symptoms)\n",
    "print(test_generalist())"
   ]
  }
 ],
 "metadata": {
  "kernelspec": {
   "display_name": "MAS_env",
   "language": "python",
   "name": "python3"
  },
  "language_info": {
   "codemirror_mode": {
    "name": "ipython",
    "version": 3
   },
   "file_extension": ".py",
   "mimetype": "text/x-python",
   "name": "python",
   "nbconvert_exporter": "python",
   "pygments_lexer": "ipython3",
   "version": "3.11.9"
  }
 },
 "nbformat": 4,
 "nbformat_minor": 2
}
