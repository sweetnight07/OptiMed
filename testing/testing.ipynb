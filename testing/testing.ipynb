{
 "cells": [
  {
   "cell_type": "code",
   "execution_count": 1,
   "metadata": {},
   "outputs": [
    {
     "ename": "ModuleNotFoundError",
     "evalue": "No module named 'prompts.all_system_message'",
     "output_type": "error",
     "traceback": [
      "\u001b[1;31m---------------------------------------------------------------------------\u001b[0m",
      "\u001b[1;31mModuleNotFoundError\u001b[0m                       Traceback (most recent call last)",
      "Cell \u001b[1;32mIn[1], line 9\u001b[0m\n\u001b[0;32m      7\u001b[0m \u001b[38;5;66;03m# import relevant packages\u001b[39;00m\n\u001b[0;32m      8\u001b[0m os\u001b[38;5;241m.\u001b[39mchdir(os\u001b[38;5;241m.\u001b[39mgetenv(\u001b[38;5;124m'\u001b[39m\u001b[38;5;124mWORKSPACE_DIRECTORY\u001b[39m\u001b[38;5;124m'\u001b[39m))\n\u001b[1;32m----> 9\u001b[0m \u001b[38;5;28;01mfrom\u001b[39;00m \u001b[38;5;21;01magents\u001b[39;00m\u001b[38;5;21;01m.\u001b[39;00m\u001b[38;5;21;01mbase_llm\u001b[39;00m \u001b[38;5;28;01mimport\u001b[39;00m OpenAILLMs\n\u001b[0;32m     10\u001b[0m \u001b[38;5;28;01mfrom\u001b[39;00m \u001b[38;5;21;01magents\u001b[39;00m\u001b[38;5;21;01m.\u001b[39;00m\u001b[38;5;21;01mmaster\u001b[39;00m \u001b[38;5;28;01mimport\u001b[39;00m MasterWorkflow\n\u001b[0;32m     11\u001b[0m \u001b[38;5;28;01mfrom\u001b[39;00m \u001b[38;5;21;01magents\u001b[39;00m\u001b[38;5;21;01m.\u001b[39;00m\u001b[38;5;21;01muser\u001b[39;00m \u001b[38;5;28;01mimport\u001b[39;00m UserLLM\n",
      "File \u001b[1;32mc:\\Users\\jzou2\\Fall 2024-2025\\Project\\OptiMed\\agents\\base_llm.py:17\u001b[0m\n\u001b[0;32m     14\u001b[0m \u001b[38;5;28;01mfrom\u001b[39;00m \u001b[38;5;21;01mlangchain_openai\u001b[39;00m \u001b[38;5;28;01mimport\u001b[39;00m ChatOpenAI\n\u001b[0;32m     15\u001b[0m \u001b[38;5;28;01mfrom\u001b[39;00m \u001b[38;5;21;01mlangchain\u001b[39;00m\u001b[38;5;21;01m.\u001b[39;00m\u001b[38;5;21;01magents\u001b[39;00m \u001b[38;5;28;01mimport\u001b[39;00m Tool, create_react_agent, AgentExecutor\n\u001b[1;32m---> 17\u001b[0m \u001b[38;5;28;01mfrom\u001b[39;00m \u001b[38;5;21;01mprompts\u001b[39;00m\u001b[38;5;21;01m.\u001b[39;00m\u001b[38;5;21;01mall_system_message\u001b[39;00m \u001b[38;5;28;01mimport\u001b[39;00m DEFAULT_SYSTEM_MESSAGE\n\u001b[0;32m     18\u001b[0m \u001b[38;5;28;01mfrom\u001b[39;00m \u001b[38;5;21;01mprompts\u001b[39;00m\u001b[38;5;21;01m.\u001b[39;00m\u001b[38;5;21;01mall_template\u001b[39;00m \u001b[38;5;28;01mimport\u001b[39;00m TEMPLATE\n\u001b[0;32m     20\u001b[0m \u001b[38;5;28;01mclass\u001b[39;00m \u001b[38;5;21;01mOpenAILLMs\u001b[39;00m:\n",
      "\u001b[1;31mModuleNotFoundError\u001b[0m: No module named 'prompts.all_system_message'"
     ]
    }
   ],
   "source": [
    "# change the directory\n",
    "import os \n",
    "from dotenv import load_dotenv\n",
    "from typing import TypedDict, List, Annotated\n",
    "from operator import add\n",
    "\n",
    "# import relevant packages\n",
    "os.chdir(os.getenv('WORKSPACE_DIRECTORY'))\n",
    "from agents.base_llm import OpenAILLMs\n",
    "from agents.master import MasterWorkflow\n",
    "from agents.user import UserLLM\n",
    "from agents.diagnosis import DiagnosisLLM\n",
    "\n",
    "from utils.vector_database import PDFVectorDatabase\n",
    "\n",
    "# from agents.diagnosis_team.diagnosis_coordinator import DiagnosticCoordinator\n",
    "# from agents.diagnosis_team.generalist import GeneralistLLM"
   ]
  },
  {
   "cell_type": "markdown",
   "metadata": {},
   "source": [
    "#### Mocked Data"
   ]
  },
  {
   "cell_type": "code",
   "execution_count": 9,
   "metadata": {},
   "outputs": [],
   "source": [
    "class Report(TypedDict):\n",
    "    \"\"\"\n",
    "    Defines the state for the multi-agent workflow\n",
    "    Includes messages, patient input, and workflow states\n",
    "    \"\"\"\n",
    "    patient_input: str\n",
    "    messages: Annotated[List[dict], add]\n",
    "    diagnosis: str\n",
    "    recommendations: str\n",
    "    appointment_details: str\n",
    "\n",
    "mocked_report_empty : Report = {'patient_input': '',\n",
    "                          'messages' : [],\n",
    "                          'diagnosis' : '',\n",
    "                          'recommendations' : '',\n",
    "                          'appointment_details' : '',\n",
    "}\n",
    "\n",
    "mocked_report_patient_filled : Report = {'patient_input': 'The user is a 45-year-old male named John Doe who is experiencing persistent chest pain, shortness of breath, occasional dizziness, and fatigue for the past two weeks. His medical history includes hypertension managed with medication and borderline high cholesterol with no current treatment.',\n",
    "                          'messages' : [],\n",
    "                          'diagnosis' : '',\n",
    "                          'recommendations' : '',\n",
    "                          'appointment_details' : '',\n",
    "}\n",
    "\n",
    "mocked_report_diagnosis_filled : Report = {'patient_input': 'The user is a 45-year-old male named John Doe who is experiencing persistent chest pain, shortness of breath, occasional dizziness, and fatigue for the past two weeks. His medical history includes hypertension managed with medication and borderline high cholesterol with no current treatment.',\n",
    "                          'messages' : [],\n",
    "                          'diagnosis' : 'The possible diagnoses for John Doe include acute coronary syndrome, stable angina, heart failure, hypertensive heart disease, pulmonary embolism, gastroesophageal reflux disease, or anxiety/panic attack, and further tests are needed to confirm the diagnosis.',\n",
    "                          'recommendations' : '',\n",
    "                          'appointment_details' : '',\n",
    "}\n",
    "\n",
    "mock_patient_info = \"\"\"\n",
    "John Doe, a 45-year-old male, reports experiencing persistent chest pain, shortness of breath, occasional dizziness, and fatigue for the past two weeks. His medical history includes hypertension diagnosed five years ago, managed with medication, and borderline high cholesterol with no current treatment. He has a family history of heart disease, as his father suffered a heart attack at age 50. He has no known allergies.\n",
    "\"\"\"\n",
    "\n",
    "pdf_directory_one = 'data\\diagnosis\\d_one.pdf'"
   ]
  },
  {
   "cell_type": "markdown",
   "metadata": {},
   "source": [
    "#### Test Base LLMs"
   ]
  },
  {
   "cell_type": "code",
   "execution_count": null,
   "metadata": {},
   "outputs": [],
   "source": [
    "# PASS\n",
    "def test_base_llm():\n",
    "    test_agent = OpenAILLMs()\n",
    "    print(test_agent.prompt)\n",
    "    test_agent_result = test_agent(\"What is the weather today\")\n",
    "    return test_agent_result\n",
    "# print(test_base_llm())"
   ]
  },
  {
   "cell_type": "markdown",
   "metadata": {},
   "source": [
    "#### Test Master Delegation"
   ]
  },
  {
   "cell_type": "code",
   "execution_count": null,
   "metadata": {},
   "outputs": [],
   "source": [
    "# PASS : USER INTERACTION\n",
    "def test_master_default():\n",
    "    master_agent = MasterWorkflow()\n",
    "    output = master_agent.test_call(mocked_report_empty)\n",
    "    return output\n",
    "# print(test_master_default())\n",
    "\n",
    "# PASS : DIAGNOSIS\n",
    "def test_master_diagnosis():\n",
    "    master_agent = MasterWorkflow()\n",
    "    output = master_agent.test_call(mocked_report_patient_filled)\n",
    "    return output\n",
    "# print(test_master_delegation())\n",
    "\n",
    "# PASS : RECOMMENDATION\n",
    "def test_master_recommendation():\n",
    "    master_agent = MasterWorkflow()\n",
    "    output = master_agent.test_call(mocked_report_diagnosis_filled)\n",
    "    return output\n",
    "# print(test_master_recommendation())\n",
    "\n"
   ]
  },
  {
   "cell_type": "markdown",
   "metadata": {},
   "source": [
    "#### Test User Agent and Tools"
   ]
  },
  {
   "cell_type": "code",
   "execution_count": null,
   "metadata": {},
   "outputs": [],
   "source": [
    "# PASS\n",
    "def test_user():\n",
    "    \"my symptoms are shortness of breath and acute chest pain\"\n",
    "    \"32\"\n",
    "    \"i do not have any medical history\"\n",
    "    user_agent = UserLLM()\n",
    "    output = user_agent()\n",
    "    return output\n",
    "# print(test_user())"
   ]
  },
  {
   "cell_type": "markdown",
   "metadata": {},
   "source": [
    "#### Test Diagnosis Agent and Tools"
   ]
  },
  {
   "cell_type": "code",
   "execution_count": null,
   "metadata": {},
   "outputs": [],
   "source": [
    "# PASS\n",
    "def test_diagnose():\n",
    "    diagnosis_agent = DiagnosisLLM()\n",
    "    output = diagnosis_agent(mocked_report_patient_filled)\n",
    "    return output\n",
    "# print(test_diagnose())\n",
    "\n",
    "def test_diagnose_with_database():\n"
   ]
  },
  {
   "cell_type": "markdown",
   "metadata": {},
   "source": [
    "#### Test Synergies and Workflow"
   ]
  },
  {
   "cell_type": "code",
   "execution_count": null,
   "metadata": {},
   "outputs": [],
   "source": [
    "# STEP ONE PASS : MASTERS TO USER\n",
    "def master_to_user():\n",
    "    master_agent = MasterWorkflow()\n",
    "    output = master_agent.test_run(mocked_report_empty)\n",
    "    return output\n",
    "# print(master_to_user())\n",
    "\n",
    "# STEP TWO PASS: MASTER TO USER TO DIAGNOSIS\n",
    "def master_to_diagnosis():\n",
    "    master_agent = MasterWorkflow()\n",
    "    output = master_agent.test_run(mocked_report_patient_filled)\n",
    "    return output\n",
    "# print(master_to_diagnosis())\n",
    "\n",
    "# STEP THREE : MASTER TO USER TO DIAGNOSIS TO RECOMMENDATION\n",
    "def master_to_recommendation():\n",
    "    return None\n"
   ]
  },
  {
   "cell_type": "markdown",
   "metadata": {},
   "source": [
    "#### Test Tools"
   ]
  },
  {
   "cell_type": "code",
   "execution_count": null,
   "metadata": {},
   "outputs": [],
   "source": [
    "# test vector database\n",
    "def test_vector_database():\n",
    "    # PASS\n",
    "    vector_database = PDFVectorDatabase()\n",
    "    # PASS\n",
    "    vector_database.add_pdf_directory(pdf_directory_one)\n",
    "    # PASS\n",
    "    vector_database.load_pdfs()\n",
    "    # PASS\n",
    "    vector_database.build_database()\n",
    "    # # PASS\n",
    "    output = vector_database.search_with_metadata(query=\"something is wrong with my cardiovascular\")\n",
    "    return output\n",
    "test_vector_database()"
   ]
  },
  {
   "cell_type": "markdown",
   "metadata": {},
   "source": [
    "#### Main Workflow"
   ]
  },
  {
   "cell_type": "code",
   "execution_count": null,
   "metadata": {},
   "outputs": [],
   "source": [
    "# # creates class \n",
    "# final_workflow = MasterWorkflow() # called once\n",
    "\n",
    "# # starts with initial form\n",
    "# initiate = final_workflow()"
   ]
  }
 ],
 "metadata": {
  "kernelspec": {
   "display_name": "MAS_env",
   "language": "python",
   "name": "python3"
  },
  "language_info": {
   "codemirror_mode": {
    "name": "ipython",
    "version": 3
   },
   "file_extension": ".py",
   "mimetype": "text/x-python",
   "name": "python",
   "nbconvert_exporter": "python",
   "pygments_lexer": "ipython3",
   "version": "3.11.9"
  }
 },
 "nbformat": 4,
 "nbformat_minor": 2
}
