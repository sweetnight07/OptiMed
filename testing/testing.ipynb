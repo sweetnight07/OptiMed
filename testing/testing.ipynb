{
 "cells": [
  {
   "cell_type": "code",
   "execution_count": 1,
   "metadata": {},
   "outputs": [],
   "source": [
    "# change the directory\n",
    "import os \n",
    "from dotenv import load_dotenv\n",
    "from typing import TypedDict, List, Annotated\n",
    "from operator import add\n",
    "\n",
    "# import relevant packages\n",
    "os.chdir(os.getenv('WORKSPACE_DIRECTORY'))\n",
    "from agents.base_llm import OpenAILLMs\n",
    "from agents.master import MasterWorkflow\n",
    "from agents.nurse import NurseLLM\n",
    "from agents.diagnosis import DiagnosisLLM\n",
    "\n",
    "from utils.vector_database import PDFVectorDatabase\n",
    "\n",
    "# from agents.diagnosis_team.diagnosis_coordinator import DiagnosticCoordinator\n",
    "# from agents.diagnosis_team.generalist import GeneralistLLM"
   ]
  },
  {
   "cell_type": "markdown",
   "metadata": {},
   "source": [
    "#### Mocked Data"
   ]
  },
  {
   "cell_type": "code",
   "execution_count": 3,
   "metadata": {},
   "outputs": [],
   "source": [
    "class Report(TypedDict):\n",
    "    \"\"\"\n",
    "    Defines the state for the multi-agent workflow\n",
    "    Includes messages, patient input, and workflow states\n",
    "    \"\"\"\n",
    "    patient_input: str\n",
    "    messages: Annotated[List[dict], add]\n",
    "    diagnosis: str\n",
    "    recommendations: str\n",
    "    appointment_details: str\n",
    "\n",
    "mocked_report_empty : Report = {'patient_info': '',\n",
    "                          'messages' : [],\n",
    "                          'diagnosis' : '',\n",
    "                          'recommendations' : '',\n",
    "                          'appointment_details' : '',\n",
    "}\n",
    "\n",
    "mocked_report_patient_filled : Report = {'patient_info': 'The user is a 45-year-old male named John Doe who is experiencing persistent chest pain, shortness of breath, occasional dizziness, and fatigue for the past two weeks. His medical history includes hypertension managed with medication and borderline high cholesterol with no current treatment.',\n",
    "                          'messages' : [],\n",
    "                          'diagnosis' : '',\n",
    "                          'recommendations' : '',\n",
    "                          'appointment_details' : '',\n",
    "}\n",
    "\n",
    "mocked_report_diagnosis_filled : Report = {'patient_info': 'The user is a 45-year-old male named John Doe who is experiencing persistent chest pain, shortness of breath, occasional dizziness, and fatigue for the past two weeks. His medical history includes hypertension managed with medication and borderline high cholesterol with no current treatment.',\n",
    "                          'messages' : [],\n",
    "                          'diagnosis' : 'The possible diagnoses for John Doe include acute coronary syndrome, stable angina, heart failure, hypertensive heart disease, pulmonary embolism, gastroesophageal reflux disease, or anxiety/panic attack, and further tests are needed to confirm the diagnosis.',\n",
    "                          'recommendations' : '',\n",
    "                          'appointment_details' : '',\n",
    "}\n",
    "\n",
    "mocked_report_recommendation_filled : Report = {'patient_info': 'The user is a 45-year-old male named John Doe who is experiencing persistent chest pain, shortness of breath, occasional dizziness, and fatigue for the past two weeks. His medical history includes hypertension managed with medication and borderline high cholesterol with no current treatment.',\n",
    "                          'messages' : [],\n",
    "                          'diagnosis' : 'The possible diagnoses for John Doe include acute coronary syndrome, stable angina, heart failure, hypertensive heart disease, pulmonary embolism, gastroesophageal reflux disease, or anxiety/panic attack, and further tests are needed to confirm the diagnosis.',\n",
    "                          'recommendations' : 'the patient should get a ECG scan immediately',\n",
    "                          'appointment_details' : '',\n",
    "}\n",
    "\n",
    "mock_patient_info = \"\"\"\n",
    "John Doe, a 45-year-old male, reports experiencing persistent chest pain, shortness of breath, occasional dizziness, and fatigue for the past two weeks. His medical history includes hypertension diagnosed five years ago, managed with medication, and borderline high cholesterol with no current treatment. He has a family history of heart disease, as his father suffered a heart attack at age 50. He has no known allergies.\n",
    "\"\"\"\n",
    "\n",
    "pdf_directory_one = 'data\\diagnosis'"
   ]
  },
  {
   "cell_type": "markdown",
   "metadata": {},
   "source": [
    "#### Test Base LLMs"
   ]
  },
  {
   "cell_type": "code",
   "execution_count": null,
   "metadata": {},
   "outputs": [],
   "source": [
    "# PASS\n",
    "def test_base_llm():\n",
    "    test_agent = OpenAILLMs()\n",
    "    print(test_agent.prompt)\n",
    "    test_agent_result = test_agent(\"What is the weather today\")\n",
    "    return test_agent_result\n",
    "# print(test_base_llm())"
   ]
  },
  {
   "cell_type": "markdown",
   "metadata": {},
   "source": [
    "#### Test Master Delegation"
   ]
  },
  {
   "cell_type": "code",
   "execution_count": null,
   "metadata": {},
   "outputs": [
    {
     "name": "stdout",
     "output_type": "stream",
     "text": [
      "input_variables=['agent_scratchpad', 'input', 'tool_names', 'tools'] input_types={} partial_variables={} messages=[SystemMessage(content=\"\\nYou are the orchestrator in a hospital setting. Your task is to manage and delegate tasks across the following agents, one at a time.\\n\\nNurse Agent\\n   - Completes the 'patient_info' in the report.\\n\\nDiagnosis Agent\\n   - Completes 'diagnosis' based on the 'patient_info' report.\\n\\nRecommendation Agent\\n   - Suggests next steps after a diagnosis (e.g., treatment plans, tests, referrals).\\n\\nScheduler Agent\\n   - Schedules appointments based on recommendations and patient's availability.\\n\", additional_kwargs={}, response_metadata={}), HumanMessagePromptTemplate(prompt=PromptTemplate(input_variables=['agent_scratchpad', 'input', 'tool_names', 'tools'], input_types={}, partial_variables={}, template=\"\\nPlease delegate the agents needed to fill out the form below:\\n\\nYou do not have any tools:\\n\\n{tools} or {tool_names}\\n\\nHere are the agents names:\\n\\n- NURSE: Responsible for filling out the 'patient_info' field.\\n- DIAGNOSIS: Responsible for filling out the 'diagnosis' field.\\n- RECOMMENDATION: Responsible for filling out the 'recommendations' field.\\n- SCHEDULER: Responsible for filling out the 'appointment_details' field.\\n\\n(END OF AGENT LIST)\\n\\nUse the following format:\\nCurrent Form: {input}\\nThought: Think about which agent should complete the form based on the task.\\nAction: [agent_name]\\nFinal Answer: The final answer should be the agent name.\\n\\nBegin!\\n\\n{agent_scratchpad}\\n\"), additional_kwargs={})]\n",
      "input_variables=['agent_scratchpad', 'examples', 'input', 'tool_names', 'tools'] input_types={} partial_variables={} messages=[SystemMessage(content=\"\\nYou are a nurse in a hospital setting. Your task is to interact with the user to gather the following information:\\n\\n1. The user's symptoms.\\n2. The user's age.\\n3. The user's medical history.\\n\\nFocus on gathering this information first. Ensure that all patient information is collected before proceeding further.\\n\\nIf the patient information is complete, then:\\n4. Check if both 'patient_info' and 'recommendations' are filled. \\n   - If both are filled, proceed to gather 'appointment_details'.\\n   - Do not request appointment details until BOTH 'patient_info' and 'recommendations' are completed.\\n\\nImportant Note: You are NOT responsible for asking about, filling in, or providing recommendations. The recommendations field is handled separately and outside the scope of your task. Your responsibility is limited to gathering patient information and, if appropriate, scheduling an appointment.\\n\\nYour responses should be professional, empathetic, and clear, ensuring that all necessary details are gathered efficiently and respectfully.\\n\\nFinally, if the user inputs 'STOP', you will terminate the interaction immediately and document the gathered information.\\n\", additional_kwargs={}, response_metadata={}), HumanMessagePromptTemplate(prompt=PromptTemplate(input_variables=['agent_scratchpad', 'examples', 'input', 'tool_names', 'tools'], input_types={}, partial_variables={}, template=\"\\nCONTEXT\\nCurrent Patient Form Status: {input}\\nAvailable Tools: {tools}\\n\\nTASK STRUCTURE\\n1. Review current form status to identify missing information.\\n2. Gather 'patient_info' if missing (this includes collecting symptoms, age, and medical history).\\n3. If both 'patient_info' and 'recommendations' are already filled, then proceed to gather 'appointment_details'.\\n\\nEXAMPLES\\n\\n{examples}\\n\\n(END OF EXAMPLES)\\n\\nRESPONSE FORMAT\\nThought: [Analysis of current situation and next steps]\\nReasoning: [Justification for chosen action]\\nAction: [Selected tool from {tool_names}]\\nAction Input: [Specific query or command]\\nObservation: [The users input for the query]\\n... (this Reasoning/Action/Action Input/Observation can repeat N times until there is sufficient information)\\n\\nFinal Thought: [Verify That You Have Done The Appropiate Step]\\nFinal Answer: [One of the following]\\n  - [A concise summary of the patient report written in a sentence or paragraph]\\n  - Appointmet details [Format: Date: MM/DD/YYYY, Time: HH:MM-HH:MM]\\n\\nBegin! \\n{agent_scratchpad}\\n\"), additional_kwargs={})]\n",
      "input_variables=['agent_scratchpad', 'input', 'tool_names', 'tools'] input_types={} partial_variables={} messages=[SystemMessage(content=\"\\nYou are a medical diagnosis assistant.\\n\\nYour task is to analyze the patient's input from the **patient_input** section of the report and provide a detailed diagnosis.\\n\\n- Focus on identifying any potential conditions or illnesses based on the provided symptoms, medical history, and relevant patient details.\\n- Use concise medical reasoning to explain your conclusions.\\n- If there isn't enough information to make a diagnosis, indicate that further details or tests are needed.\\n- Avoid making unsubstantiated claims; rely on the given data to guide your response.\\n\\nDeliver your diagnosis in a structured format.\\n\", additional_kwargs={}, response_metadata={}), HumanMessagePromptTemplate(prompt=PromptTemplate(input_variables=['agent_scratchpad', 'input', 'tool_names', 'tools'], input_types={}, partial_variables={}, template='\\nYou are a medical diagnosis assistant with access to a vector database of medical information. Your task is to analyze a patient\\'s report, interpret their symptoms, medical history, and other relevant details. Using this information, you will:\\n\\n1. **Analyze the patient’s input:** Identify key symptoms, medical history, and other important factors. You should focus on symptoms like chest pain, shortness of breath, dizziness, and fatigue, as well as pre-existing conditions such as hypertension and cholesterol levels.\\n\\n2. **Consult the vector database:** Based on the patient’s symptoms and medical history, query the vector database for relevant medical conditions that could match these signs. Use the information in the database to form a list of potential diagnoses.\\n\\n3. **Generate a diagnosis:** Based on your findings from the vector database, propose a diagnosis that best fits the patient\\'s symptoms and medical history. If multiple possibilities exist, explain them in a manner that is clear and concise, considering the patient’s risk factors.\\n\\n4. **Offer recommendations:** Provide appropriate medical advice or actions the patient should take next, such as further tests, treatments, or lifestyle changes.\\n\\n5. **Appointment details:** If necessary, include recommendations for scheduling an appointment or follow-up, based on the urgency of the diagnosis.\\n\\n**Important Restriction:** You are only allowed to access the vector database once for the patient report. Once you retrieve the necessary information from the database, you must immediately execute the diagnosis and generate the recommendations and appointment details based on the results. Avoid multiple queries or unnecessary re-checks after your initial access.\\n\\n### Format:\\n\\nThe tools available to you are:\\n{tools}\\n\\nUse the following format:\\n\\n**Thought:**  \\nHere you describe your reasoning about the patient\\'s condition. Consider the symptoms, history, and any other relevant factors. Try to connect the symptoms to possible conditions and make sure to articulate why certain conditions might be more likely than others.\\n\\n**Reason:**  \\nHere you explain why you\\'re taking a specific action. For example, explain why you\\'re using a particular tool, querying the database, or selecting a certain diagnosis.\\n\\n**Action:**  \\nHere you specify the tool from [{tool_names}] or action you are taking. If you\\'re querying a database, mention it here. Be sure to only access the tool once to complete your task.\\n\\n**Action Input:**  \\nThis is the actual input you\\'re sending to the tool. For example, if querying the database, this will be the search query like `\"chest pain, shortness of breath, dizziness, fatigue, hypertension, borderline high cholesterol\"`.\\n\\n**Observation:**  \\nNow, execute the action (querying the database, generating the diagnosis, etc.) based on your reasoning.\\n\\nInput: {input}\\n\\nAgent Scratchpad: {agent_scratchpad}\\n\\nRemember, you should only access the vector database once. After that, you must finalize the diagnosis, recommendations, and appointment details.\\n'), additional_kwargs={})]\n",
      "\n",
      "\n",
      "\u001b[1m> Entering new AgentExecutor chain...\u001b[0m\n",
      "\u001b[32;1m\u001b[1;3mCurrent Form: {'patient_info': '', 'messages': [], 'diagnosis': '', 'recommendations': '', 'appointment_details': ''}\n",
      "Thought: The first step is to fill out the 'patient_info' field, which is the responsibility of the Nurse Agent.\n",
      "Action: NURSE\n",
      "Final Answer: NURSE\u001b[0m\n",
      "\n",
      "\u001b[1m> Finished chain.\u001b[0m\n",
      "NURSE\n",
      "input_variables=['agent_scratchpad', 'input', 'tool_names', 'tools'] input_types={} partial_variables={} messages=[SystemMessage(content=\"\\nYou are the orchestrator in a hospital setting. Your task is to manage and delegate tasks across the following agents, one at a time.\\n\\nNurse Agent\\n   - Completes the 'patient_info' in the report.\\n\\nDiagnosis Agent\\n   - Completes 'diagnosis' based on the 'patient_info' report.\\n\\nRecommendation Agent\\n   - Suggests next steps after a diagnosis (e.g., treatment plans, tests, referrals).\\n\\nScheduler Agent\\n   - Schedules appointments based on recommendations and patient's availability.\\n\", additional_kwargs={}, response_metadata={}), HumanMessagePromptTemplate(prompt=PromptTemplate(input_variables=['agent_scratchpad', 'input', 'tool_names', 'tools'], input_types={}, partial_variables={}, template=\"\\nPlease delegate the agents needed to fill out the form below:\\n\\nYou do not have any tools:\\n\\n{tools} or {tool_names}\\n\\nHere are the agents names:\\n\\n- NURSE: Responsible for filling out the 'patient_info' field.\\n- DIAGNOSIS: Responsible for filling out the 'diagnosis' field.\\n- RECOMMENDATION: Responsible for filling out the 'recommendations' field.\\n- SCHEDULER: Responsible for filling out the 'appointment_details' field.\\n\\n(END OF AGENT LIST)\\n\\nUse the following format:\\nCurrent Form: {input}\\nThought: Think about which agent should complete the form based on the task.\\nAction: [agent_name]\\nFinal Answer: The final answer should be the agent name.\\n\\nBegin!\\n\\n{agent_scratchpad}\\n\"), additional_kwargs={})]\n",
      "input_variables=['agent_scratchpad', 'examples', 'input', 'tool_names', 'tools'] input_types={} partial_variables={} messages=[SystemMessage(content=\"\\nYou are a nurse in a hospital setting. Your task is to interact with the user to gather the following information:\\n\\n1. The user's symptoms.\\n2. The user's age.\\n3. The user's medical history.\\n\\nFocus on gathering this information first. Ensure that all patient information is collected before proceeding further.\\n\\nIf the patient information is complete, then:\\n4. Check if both 'patient_info' and 'recommendations' are filled. \\n   - If both are filled, proceed to gather 'appointment_details'.\\n   - Do not request appointment details until BOTH 'patient_info' and 'recommendations' are completed.\\n\\nImportant Note: You are NOT responsible for asking about, filling in, or providing recommendations. The recommendations field is handled separately and outside the scope of your task. Your responsibility is limited to gathering patient information and, if appropriate, scheduling an appointment.\\n\\nYour responses should be professional, empathetic, and clear, ensuring that all necessary details are gathered efficiently and respectfully.\\n\\nFinally, if the user inputs 'STOP', you will terminate the interaction immediately and document the gathered information.\\n\", additional_kwargs={}, response_metadata={}), HumanMessagePromptTemplate(prompt=PromptTemplate(input_variables=['agent_scratchpad', 'examples', 'input', 'tool_names', 'tools'], input_types={}, partial_variables={}, template=\"\\nCONTEXT\\nCurrent Patient Form Status: {input}\\nAvailable Tools: {tools}\\n\\nTASK STRUCTURE\\n1. Review current form status to identify missing information.\\n2. Gather 'patient_info' if missing (this includes collecting symptoms, age, and medical history).\\n3. If both 'patient_info' and 'recommendations' are already filled, then proceed to gather 'appointment_details'.\\n\\nEXAMPLES\\n\\n{examples}\\n\\n(END OF EXAMPLES)\\n\\nRESPONSE FORMAT\\nThought: [Analysis of current situation and next steps]\\nReasoning: [Justification for chosen action]\\nAction: [Selected tool from {tool_names}]\\nAction Input: [Specific query or command]\\nObservation: [The users input for the query]\\n... (this Reasoning/Action/Action Input/Observation can repeat N times until there is sufficient information)\\n\\nFinal Thought: [Verify That You Have Done The Appropiate Step]\\nFinal Answer: [One of the following]\\n  - [A concise summary of the patient report written in a sentence or paragraph]\\n  - Appointmet details [Format: Date: MM/DD/YYYY, Time: HH:MM-HH:MM]\\n\\nBegin! \\n{agent_scratchpad}\\n\"), additional_kwargs={})]\n",
      "input_variables=['agent_scratchpad', 'input', 'tool_names', 'tools'] input_types={} partial_variables={} messages=[SystemMessage(content=\"\\nYou are a medical diagnosis assistant.\\n\\nYour task is to analyze the patient's input from the **patient_input** section of the report and provide a detailed diagnosis.\\n\\n- Focus on identifying any potential conditions or illnesses based on the provided symptoms, medical history, and relevant patient details.\\n- Use concise medical reasoning to explain your conclusions.\\n- If there isn't enough information to make a diagnosis, indicate that further details or tests are needed.\\n- Avoid making unsubstantiated claims; rely on the given data to guide your response.\\n\\nDeliver your diagnosis in a structured format.\\n\", additional_kwargs={}, response_metadata={}), HumanMessagePromptTemplate(prompt=PromptTemplate(input_variables=['agent_scratchpad', 'input', 'tool_names', 'tools'], input_types={}, partial_variables={}, template='\\nYou are a medical diagnosis assistant with access to a vector database of medical information. Your task is to analyze a patient\\'s report, interpret their symptoms, medical history, and other relevant details. Using this information, you will:\\n\\n1. **Analyze the patient’s input:** Identify key symptoms, medical history, and other important factors. You should focus on symptoms like chest pain, shortness of breath, dizziness, and fatigue, as well as pre-existing conditions such as hypertension and cholesterol levels.\\n\\n2. **Consult the vector database:** Based on the patient’s symptoms and medical history, query the vector database for relevant medical conditions that could match these signs. Use the information in the database to form a list of potential diagnoses.\\n\\n3. **Generate a diagnosis:** Based on your findings from the vector database, propose a diagnosis that best fits the patient\\'s symptoms and medical history. If multiple possibilities exist, explain them in a manner that is clear and concise, considering the patient’s risk factors.\\n\\n4. **Offer recommendations:** Provide appropriate medical advice or actions the patient should take next, such as further tests, treatments, or lifestyle changes.\\n\\n5. **Appointment details:** If necessary, include recommendations for scheduling an appointment or follow-up, based on the urgency of the diagnosis.\\n\\n**Important Restriction:** You are only allowed to access the vector database once for the patient report. Once you retrieve the necessary information from the database, you must immediately execute the diagnosis and generate the recommendations and appointment details based on the results. Avoid multiple queries or unnecessary re-checks after your initial access.\\n\\n### Format:\\n\\nThe tools available to you are:\\n{tools}\\n\\nUse the following format:\\n\\n**Thought:**  \\nHere you describe your reasoning about the patient\\'s condition. Consider the symptoms, history, and any other relevant factors. Try to connect the symptoms to possible conditions and make sure to articulate why certain conditions might be more likely than others.\\n\\n**Reason:**  \\nHere you explain why you\\'re taking a specific action. For example, explain why you\\'re using a particular tool, querying the database, or selecting a certain diagnosis.\\n\\n**Action:**  \\nHere you specify the tool from [{tool_names}] or action you are taking. If you\\'re querying a database, mention it here. Be sure to only access the tool once to complete your task.\\n\\n**Action Input:**  \\nThis is the actual input you\\'re sending to the tool. For example, if querying the database, this will be the search query like `\"chest pain, shortness of breath, dizziness, fatigue, hypertension, borderline high cholesterol\"`.\\n\\n**Observation:**  \\nNow, execute the action (querying the database, generating the diagnosis, etc.) based on your reasoning.\\n\\nInput: {input}\\n\\nAgent Scratchpad: {agent_scratchpad}\\n\\nRemember, you should only access the vector database once. After that, you must finalize the diagnosis, recommendations, and appointment details.\\n'), additional_kwargs={})]\n",
      "\n",
      "\n",
      "\u001b[1m> Entering new AgentExecutor chain...\u001b[0m\n",
      "\u001b[32;1m\u001b[1;3mCurrent Form: {'patient_info': 'The user is a 45-year-old male named John Doe who is experiencing persistent chest pain, shortness of breath, occasional dizziness, and fatigue for the past two weeks. His medical history includes hypertension managed with medication and borderline high cholesterol with no current treatment.', 'messages': [], 'diagnosis': '', 'recommendations': '', 'appointment_details': ''}\n",
      "Thought: The 'patient_info' field is already filled out, so the next step is to complete the 'diagnosis' field based on the provided patient information.\n",
      "Action: DIAGNOSIS\n",
      "Final Answer: DIAGNOSIS\u001b[0m\n",
      "\n",
      "\u001b[1m> Finished chain.\u001b[0m\n",
      "DIAGNOSIS\n"
     ]
    }
   ],
   "source": [
    "# PASS : USER INTERACTION\n",
    "def test_master_default():\n",
    "    master_agent = MasterWorkflow()\n",
    "    output = master_agent.test_call(mocked_report_empty)\n",
    "    return output\n",
    "# print(test_master_default())\n",
    "\n",
    "# PASS : DIAGNOSIS\n",
    "def test_master_diagnosis():\n",
    "    master_agent = MasterWorkflow()\n",
    "    output = master_agent.test_call(mocked_report_patient_filled)\n",
    "    return output\n",
    "# print(test_master_diagnosis())\n",
    "\n",
    "# PASS : RECOMMENDATION\n",
    "def test_master_recommendation():\n",
    "    master_agent = MasterWorkflow()\n",
    "    output = master_agent.test_call(mocked_report_diagnosis_filled)\n",
    "    return output\n",
    "# print(test_master_recommendation())\n",
    "\n"
   ]
  },
  {
   "cell_type": "markdown",
   "metadata": {},
   "source": [
    "#### Test Nurse Agent and Tools"
   ]
  },
  {
   "cell_type": "code",
   "execution_count": null,
   "metadata": {},
   "outputs": [],
   "source": [
    "# PASS\n",
    "def test_nurse_patient_info():\n",
    "    \"my symptoms are shortness of breath and acute chest pain\"\n",
    "    \"32\"\n",
    "    \"i do not have any medical history\"\n",
    "    nurse_agent = NurseLLM()\n",
    "    output = nurse_agent(mocked_report_empty)\n",
    "    return output\n",
    "# print(test_nurse_patient_info())\n",
    "\n",
    "def test_nurse_appointment():\n",
    "    nurse_agent = NurseLLM()\n",
    "    output = nurse_agent(mocked_report_recommendation_filled)\n",
    "    return output\n",
    "# print(test_nurse_appointment())"
   ]
  },
  {
   "cell_type": "markdown",
   "metadata": {},
   "source": [
    "#### Test Diagnosis Agent and Tools"
   ]
  },
  {
   "cell_type": "code",
   "execution_count": null,
   "metadata": {},
   "outputs": [],
   "source": [
    "import os \n",
    "from dotenv import load_dotenv\n",
    "from typing import TypedDict, List, Annotated\n",
    "from operator import add\n",
    "\n",
    "# import relevant packages\n",
    "os.chdir(os.getenv('WORKSPACE_DIRECTORY'))\n",
    "from agents.base_llm import OpenAILLMs\n",
    "from agents.master import MasterWorkflow\n",
    "from agents.nurse import NurseLLM\n",
    "from agents.diagnosis import DiagnosisLLM\n",
    "\n",
    "from utils.vector_database import PDFVectorDatabase\n",
    "\n",
    "class Report(TypedDict):\n",
    "    \"\"\"\n",
    "    Defines the state for the multi-agent workflow\n",
    "    Includes messages, patient input, and workflow states\n",
    "    \"\"\"\n",
    "    patient_input: str\n",
    "    messages: Annotated[List[dict], add]\n",
    "    diagnosis: str\n",
    "    recommendations: str\n",
    "    appointment_details: str\n",
    "    \n",
    "mocked_report_patient_filled : Report = {'patient_input': 'The user is a 45-year-old male named John Doe who is experiencing persistent chest pain, shortness of breath, occasional dizziness, and fatigue for the past two weeks. His medical history includes hypertension managed with medication and borderline high cholesterol with no current treatment.',\n",
    "                          'messages' : [],\n",
    "                          'diagnosis' : '',\n",
    "                          'recommendations' : '',\n",
    "                          'appointment_details' : '',\n",
    "}\n",
    "\n",
    "# PASS\n",
    "def test_diagnose():\n",
    "    diagnosis_agent = DiagnosisLLM()\n",
    "    output = diagnosis_agent(mocked_report_patient_filled)\n",
    "    return output\n",
    "print(test_diagnose())"
   ]
  },
  {
   "cell_type": "markdown",
   "metadata": {},
   "source": [
    "#### Test Synergies and Workflow"
   ]
  },
  {
   "cell_type": "code",
   "execution_count": null,
   "metadata": {},
   "outputs": [],
   "source": [
    "# STEP ONE PASS : MASTERS TO USER\n",
    "def master_to_user():\n",
    "    master_agent = MasterWorkflow()\n",
    "    output = master_agent.test_run(mocked_report_empty)\n",
    "    return output\n",
    "# print(master_to_user())\n",
    "\n",
    "# STEP TWO PASS: MASTER TO USER TO DIAGNOSIS\n",
    "def master_to_diagnosis():\n",
    "    master_agent = MasterWorkflow()\n",
    "    output = master_agent.test_run(mocked_report_patient_filled)\n",
    "    return output\n",
    "# print(master_to_diagnosis())\n",
    "\n",
    "# STEP THREE : MASTER TO USER TO DIAGNOSIS TO RECOMMENDATION\n",
    "def master_to_recommendation():\n",
    "    return None\n"
   ]
  },
  {
   "cell_type": "markdown",
   "metadata": {},
   "source": [
    "#### Test Tools"
   ]
  },
  {
   "cell_type": "code",
   "execution_count": null,
   "metadata": {},
   "outputs": [],
   "source": [
    "# test vector database\n",
    "def test_vector_database():\n",
    "    # PASS\n",
    "    vector_database = PDFVectorDatabase()\n",
    "    # PASS\n",
    "    vector_database.add_pdf_directory(pdf_directory_one)\n",
    "    # PASS\n",
    "    vector_database.load_pdfs()\n",
    "    # PASS\n",
    "    vector_database.build_database()\n",
    "    # # PASS\n",
    "    output = vector_database.search_with_metadata(query=\"something is wrong with my cardiovascular\")\n",
    "    return type(output)\n",
    "test_vector_database()"
   ]
  },
  {
   "cell_type": "markdown",
   "metadata": {},
   "source": [
    "#### Main Workflow"
   ]
  },
  {
   "cell_type": "code",
   "execution_count": null,
   "metadata": {},
   "outputs": [],
   "source": [
    "# # creates class \n",
    "# final_workflow = MasterWorkflow() # called once\n",
    "\n",
    "# # starts with initial form\n",
    "# initiate = final_workflow()"
   ]
  }
 ],
 "metadata": {
  "kernelspec": {
   "display_name": "MAS_env",
   "language": "python",
   "name": "python3"
  },
  "language_info": {
   "codemirror_mode": {
    "name": "ipython",
    "version": 3
   },
   "file_extension": ".py",
   "mimetype": "text/x-python",
   "name": "python",
   "nbconvert_exporter": "python",
   "pygments_lexer": "ipython3",
   "version": "3.11.9"
  }
 },
 "nbformat": 4,
 "nbformat_minor": 2
}
