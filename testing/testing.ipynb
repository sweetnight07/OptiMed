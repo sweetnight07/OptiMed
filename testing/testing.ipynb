{
 "cells": [
  {
   "cell_type": "code",
   "execution_count": null,
   "metadata": {},
   "outputs": [],
   "source": [
    "# change the directory\n",
    "import os \n",
    "from dotenv import load_dotenv\n",
    "load_dotenv()\n",
    "os.chdir(os.getenv('WORKSPACE_DIRECTORY'))\n",
    "\n",
    "\n",
    "# import other packages\n",
    "from typing import TypedDict, List, Annotated\n",
    "from operator import add\n",
    "from datetime import datetime\n",
    "\n",
    "# import my packages\n",
    "from agents.agent import MyAgent\n",
    "from agents.master import MasterWorkflow\n",
    "from agents.nurse import NurseAgent\n",
    "from agents.diagnosis import DiagnosisAgent\n",
    "from agents.recommender import RecommendationAgent\n",
    "from agents.receptionist import ReceptionAgent\n",
    "\n",
    "# imports utils\n",
    "from utils.vector_database import PDFVectorDatabase\n",
    "from utils.ddg_search_engine import DDGSearch\n",
    "from utils.cdc_web_scraper import CDCWebScraper\n",
    "from utils.google_calendar import GoogleCalendarAPI\n"
   ]
  },
  {
   "cell_type": "markdown",
   "metadata": {},
   "source": [
    "#### Mocked Data"
   ]
  },
  {
   "cell_type": "code",
   "execution_count": null,
   "metadata": {},
   "outputs": [],
   "source": [
    "class Report(TypedDict):\n",
    "    \"\"\"\n",
    "    Defines the state for the multi-agent workflow\n",
    "    Includes messages, patient input, and workflow states\n",
    "    \"\"\"\n",
    "    patient_input: str\n",
    "    messages: Annotated[List[dict], add]\n",
    "    diagnosis: str\n",
    "    recommendations: str\n",
    "    appointment_details: str\n",
    "\n",
    "mocked_report_empty : Report = {'patient_info': '',\n",
    "                          'messages' : [],\n",
    "                          'diagnosis' : '',\n",
    "                          'recommendations' : '',\n",
    "                          'appointment_details' : '',\n",
    "}\n",
    "\n",
    "mocked_report_patient_filled : Report = {'patient_info': 'The user is a 45-year-old male named John Doe who is experiencing persistent chest pain, shortness of breath, occasional dizziness, and fatigue for the past two weeks. His medical history includes hypertension managed with medication and borderline high cholesterol with no current treatment.',\n",
    "                          'messages' : [],\n",
    "                          'diagnosis' : '',\n",
    "                          'recommendations' : '',\n",
    "                          'appointment_details' : '',\n",
    "}\n",
    "\n",
    "mocked_report_patient_unknwon : Report = {'patient_info': 'The curious fox dashed swiftly through the golden meadow, chasing shadows cast by the setting sun.',\n",
    "                          'messages' : [],\n",
    "                          'diagnosis' : '',\n",
    "                          'recommendations' : '',\n",
    "                          'appointment_details' : '',\n",
    "}\n",
    "\n",
    "mocked_report_diagnosis_filled_part_1 : Report = {'patient_info': 'The user is a 45-year-old male named John Doe who is experiencing persistent chest pain, shortness of breath, occasional dizziness, and fatigue for the past two weeks. His medical history includes hypertension managed with medication and borderline high cholesterol with no current treatment.',\n",
    "                          'messages' : [],\n",
    "                          'diagnosis' : 'The possible diagnoses for John Doe include acute coronary syndrome, stable angina, heart failure, hypertensive heart disease, pulmonary embolism, gastroesophageal reflux disease, or anxiety/panic attack, and further tests are needed to confirm the diagnosis.',\n",
    "                          'recommendations' : '',\n",
    "                          'appointment_details' : '',\n",
    "}\n",
    "\n",
    "mocked_report_diagnosis_filled_part_2 : Report = {'patient_info': 'The user is a 32 year with shortness of breath and acute chest pain',\n",
    "                          'messages' : [],\n",
    "                          'diagnosis' : 'The possible diagnoses for this could be Atrial Fibrilation',\n",
    "                          'recommendations' : '',\n",
    "                          'appointment_details' : '',\n",
    "}\n",
    "\n",
    "mocked_report_recommendation_filled : Report = {'patient_info': 'The user is a 45-year-old male named John Doe who is experiencing persistent chest pain, shortness of breath, occasional dizziness, and fatigue for the past two weeks. His medical history includes hypertension managed with medication and borderline high cholesterol with no current treatment.',\n",
    "                          'messages' : [],\n",
    "                          'diagnosis' : 'The possible diagnoses for John Doe include acute coronary syndrome, stable angina, heart failure, hypertensive heart disease, pulmonary embolism, gastroesophageal reflux disease, or anxiety/panic attack, and further tests are needed to confirm the diagnosis.',\n",
    "                          'recommendations' : 'the patient should get a ECG scan immediately',\n",
    "                          'appointment_details' : '',\n",
    "}\n",
    "\n",
    "mocked_report_all_filled : Report = {'patient_info': 'The user is a 45-year-old male named John Doe who is experiencing persistent chest pain, shortness of breath, occasional dizziness, and fatigue for the past two weeks. His medical history includes hypertension managed with medication and borderline high cholesterol with no current treatment.',\n",
    "                          'messages' : [],\n",
    "                          'diagnosis' : 'The possible diagnoses for John Doe include acute coronary syndrome, stable angina, heart failure, hypertensive heart disease, pulmonary embolism, gastroesophageal reflux disease, or anxiety/panic attack, and further tests are needed to confirm the diagnosis.',\n",
    "                          'recommendations' : 'the patient should get a ECG scan immediately',\n",
    "                          'appointment_details' : '11/24/2024, 18:00-18:30',\n",
    "}\n",
    "\n",
    "mock_patient_info = \"\"\"\n",
    "John Doe, a 45-year-old male, reports experiencing persistent chest pain, shortness of breath, occasional dizziness, and fatigue for the past two weeks. His medical history includes hypertension diagnosed five years ago, managed with medication, and borderline high cholesterol with no current treatment. He has a family history of heart disease, as his father suffered a heart attack at age 50. He has no known allergies.\n",
    "\"\"\"\n",
    "\n",
    "pdf_directory_one = 'data\\diagnosis'"
   ]
  },
  {
   "cell_type": "markdown",
   "metadata": {},
   "source": [
    "#### Test Base LLMs"
   ]
  },
  {
   "cell_type": "code",
   "execution_count": null,
   "metadata": {},
   "outputs": [],
   "source": [
    "# PASS\n",
    "def test_my_agent():\n",
    "    my_agent = MyAgent()\n",
    "    my_agent_output = my_agent(\"hi how are you\")\n",
    "    return my_agent_output\n",
    "# print(test_my_agent())"
   ]
  },
  {
   "cell_type": "markdown",
   "metadata": {},
   "source": [
    "#### Test Master Delegation"
   ]
  },
  {
   "cell_type": "code",
   "execution_count": null,
   "metadata": {},
   "outputs": [],
   "source": [
    "# PASS : NURSE\n",
    "def test_master_default():\n",
    "    master_agent = MasterWorkflow()\n",
    "    output = master_agent.test_call(mocked_report_empty)\n",
    "    return output\n",
    "# print(test_master_default())\n",
    "\n",
    "# PASS : DIAGNOSIS\n",
    "def test_master_diagnosis():\n",
    "    master_agent = MasterWorkflow()\n",
    "    output = master_agent.test_call(mocked_report_patient_filled)\n",
    "    return output\n",
    "# print(test_master_diagnosis())\n",
    "\n",
    "# PASS : RECOMMENDATION\n",
    "def test_master_recommendation():\n",
    "    master_agent = MasterWorkflow()\n",
    "    output = master_agent.test_call(mocked_report_diagnosis_filled_part_2)\n",
    "    return output\n",
    "# print(test_master_recommendation())"
   ]
  },
  {
   "cell_type": "markdown",
   "metadata": {},
   "source": [
    "#### Test Nurse Agent and Tools"
   ]
  },
  {
   "cell_type": "code",
   "execution_count": null,
   "metadata": {},
   "outputs": [],
   "source": [
    "# PASS\n",
    "def test_nurse_patient_info():\n",
    "    \"my symptoms are shortness of breath and acute chest pain\"\n",
    "    \"32\"\n",
    "    \"i do not have any medical history\"\n",
    "    nurse_agent = NurseAgent()\n",
    "    output = nurse_agent(mocked_report_empty)\n",
    "    return output\n",
    "# print(test_nurse_patient_info())\n",
    "\n",
    "# PASS\n",
    "def test_nurse_appointment():\n",
    "    nurse_agent = NurseAgent()\n",
    "    output = nurse_agent(mocked_report_recommendation_filled)\n",
    "    return output\n",
    "# print(test_nurse_appointment())"
   ]
  },
  {
   "cell_type": "markdown",
   "metadata": {},
   "source": [
    "#### Test Diagnosis Agent and Tools"
   ]
  },
  {
   "cell_type": "code",
   "execution_count": null,
   "metadata": {},
   "outputs": [],
   "source": [
    "# PASS\n",
    "def test_diagnose_filled():\n",
    "    diagnosis_agent = DiagnosisAgent(pdf_directory_one)\n",
    "    output = diagnosis_agent(mocked_report_patient_filled)\n",
    "    return output\n",
    "# print(test_diagnose_filled())\n",
    "\n",
    "# PASS\n",
    "def test_diagnose_unknown():\n",
    "    diagnosis_agent = DiagnosisAgent(pdf_directory_one)\n",
    "    output = diagnosis_agent(mocked_report_patient_unknwon)\n",
    "    return output\n",
    "# print(test_diagnose_unknown())"
   ]
  },
  {
   "cell_type": "markdown",
   "metadata": {},
   "source": [
    "#### Test Recommendation Agent and Tools"
   ]
  },
  {
   "cell_type": "code",
   "execution_count": null,
   "metadata": {},
   "outputs": [],
   "source": [
    "# PASS\n",
    "def test_recommendation_filled():\n",
    "    recommendation_agent = RecommendationAgent()\n",
    "    output = recommendation_agent(mocked_report_diagnosis_filled_part_1)\n",
    "    return output#\n",
    "# print(test_recommendation_filled())"
   ]
  },
  {
   "cell_type": "markdown",
   "metadata": {},
   "source": [
    "#### Test Reception Agent and Tools"
   ]
  },
  {
   "cell_type": "code",
   "execution_count": null,
   "metadata": {},
   "outputs": [],
   "source": [
    "# PASS\n",
    "def test_reception():\n",
    "    reception_agent = ReceptionAgent()\n",
    "    output = reception_agent(mocked_report_all_filled)\n",
    "    return output\n",
    "# print(test_reception())\n",
    "    "
   ]
  },
  {
   "cell_type": "markdown",
   "metadata": {},
   "source": [
    "#### Test Utils"
   ]
  },
  {
   "cell_type": "code",
   "execution_count": null,
   "metadata": {},
   "outputs": [],
   "source": [
    "# test vector database\n",
    "def test_vector_database():\n",
    "    # PASS\n",
    "    vector_database = PDFVectorDatabase()\n",
    "    # PASS\n",
    "    vector_database.add_pdf_directory(pdf_directory_one)\n",
    "    # PASS\n",
    "    vector_database.load_pdfs()\n",
    "    # PASS\n",
    "    vector_database.build_database()\n",
    "    # PASS\n",
    "    output = vector_database.search_with_metadata(query=\"something is wrong with my cardiovascular\")\n",
    "    return type(output)\n",
    "# test_vector_database()\n",
    "\n",
    "# test the search engine\n",
    "def test_search_engine():\n",
    "    # PASS\n",
    "    search_engine = DDGSearch()\n",
    "    # PASS\n",
    "    search_result = search_engine.search(\"atrial fibrillation symptoms and palpitations, fatigue, dizziness, and history of hypothyroidism\")\n",
    "    return search_result\n",
    "# test_search_engine()\n",
    "\n",
    "# test webscraper\n",
    "def test_webscraper():\n",
    "    # PASS\n",
    "    web_scraper = CDCWebScraper()\n",
    "    # PASS\n",
    "    new_page = web_scraper.update_and_extract_search_url(\"Coronary Artery Disease\")\n",
    "    # PASS\n",
    "    first_source = web_scraper.select_source()\n",
    "    # PASS\n",
    "    content = web_scraper.extract_content_from_source()\n",
    "    # PASS\n",
    "    web_scraper.close()\n",
    "    return content\n",
    "# print(test_webscraper())\n",
    "\n",
    "# test google calendar \n",
    "def test_google_calendar():\n",
    "    # PASS\n",
    "    google_calendar = GoogleCalendarAPI()\n",
    "    # AUTHENTICATED\n",
    "    google_calendar.authenticate()\n",
    "    # PASS\n",
    "    start_time = datetime(2024, 11, 25, 9, 0, 0) \n",
    "    end_time = datetime(2024, 11, 25, 10, 0, 0) \n",
    "    # PASS\n",
    "    google_calendar.create_event(summary=\"My Appointment\", \n",
    "                                 description=\"ECG Consultation\",\n",
    "                                 start_time=start_time,\n",
    "                                 end_time=end_time)\n",
    "\n",
    "# test_google_calendar()"
   ]
  },
  {
   "cell_type": "markdown",
   "metadata": {},
   "source": [
    "#### Main Workflow"
   ]
  },
  {
   "cell_type": "code",
   "execution_count": null,
   "metadata": {},
   "outputs": [],
   "source": [
    "master_agent = MasterWorkflow()\n",
    "\n",
    "master_agent.run()"
   ]
  }
 ],
 "metadata": {
  "kernelspec": {
   "display_name": "MAS_env",
   "language": "python",
   "name": "python3"
  },
  "language_info": {
   "codemirror_mode": {
    "name": "ipython",
    "version": 3
   },
   "file_extension": ".py",
   "mimetype": "text/x-python",
   "name": "python",
   "nbconvert_exporter": "python",
   "pygments_lexer": "ipython3",
   "version": "3.11.9"
  }
 },
 "nbformat": 4,
 "nbformat_minor": 2
}
